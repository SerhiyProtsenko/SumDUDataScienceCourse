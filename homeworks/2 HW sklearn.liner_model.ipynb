{
 "cells": [
  {
   "cell_type": "markdown",
   "metadata": {},
   "source": [
    "# Home Work 2"
   ]
  },
  {
   "cell_type": "markdown",
   "metadata": {},
   "source": [
    "**linear_model:** http://scikit-learn.org/stable/modules/linear_model.html#linear-model\n",
    "* RidgeClassifier  https://developers.google.com/machine-learning/crash-course/classification/thresholding\n",
    "* LinearRegression  https://developers.google.com/machine-learning/crash-course/descending-into-ml/linear-regression\n",
    "* LogisticRegression  https://developers.google.com/machine-learning/crash-course/logistic-regression/calculating-a-probability\n",
    "* Lasso"
   ]
  },
  {
   "cell_type": "markdown",
   "metadata": {},
   "source": [
    "documentation: http://scikit-learn.org/stable/modules/classes.html#module-sklearn.linear_model\n",
    "\n",
    "examples: http://scikit-learn.org/stable/modules/linear_model.html#linear-model"
   ]
  },
  {
   "cell_type": "code",
   "execution_count": 56,
   "metadata": {},
   "outputs": [],
   "source": [
    "# imports\n",
    "from sklearn import cross_validation, datasets, linear_model, metrics, model_selection\n",
    "\n",
    "import numpy as np\n",
    "import seaborn as sns\n",
    "import pandas as pd\n",
    "import matplotlib.pyplot as plt\n",
    "from matplotlib.colors import ListedColormap\n",
    "%matplotlib inline\n"
   ]
  },
  {
   "cell_type": "markdown",
   "metadata": {},
   "source": [
    "## Task 1"
   ]
  },
  {
   "cell_type": "code",
   "execution_count": 57,
   "metadata": {},
   "outputs": [],
   "source": [
    "#Generating training data using sklearn\n",
    "blobs = datasets.make_blobs(centers = 2, cluster_std = 6.5, random_state=1)"
   ]
  },
  {
   "cell_type": "code",
   "execution_count": 58,
   "metadata": {},
   "outputs": [
    {
     "data": {
      "text/plain": [
       "<matplotlib.collections.PathCollection at 0x23a253f19e8>"
      ]
     },
     "execution_count": 58,
     "metadata": {},
     "output_type": "execute_result"
    },
    {
     "data": {
      "image/png": "[encoded data removed]",
      "text/plain": [
       "<matplotlib.figure.Figure at 0x23a253d2860>"
      ]
     },
     "metadata": {},
     "output_type": "display_data"
    }
   ],
   "source": [
    "#show our generated dataset\n",
    "colors = ListedColormap(['red', 'blue'])\n",
    "\n",
    "plt.figure(figsize=(8, 8))\n",
    "plt.scatter([x[0] for x in blobs[0]], [x[1] for x in blobs[0]], c=blobs[1], cmap=colors)"
   ]
  },
  {
   "cell_type": "markdown",
   "metadata": {},
   "source": [
    "Study the structure of our data. What are the features? What is the response (target)? Print X (features) and Y (target) separately on the screen. Output the data type and the data sizes. Use: slicing of array, type()... "
   ]
  },
  {
   "cell_type": "code",
   "execution_count": 59,
   "metadata": {},
   "outputs": [
    {
     "data": {
      "text/plain": [
       "array([[  3.96558968, -10.55351166],\n",
       "       [ -4.49766829,  -9.54020216],\n",
       "       [-11.04629964,   1.12746176],\n",
       "       [ -0.16394413,   9.35956254],\n",
       "       [  6.43640459,  -5.5694746 ]])"
      ]
     },
     "execution_count": 59,
     "metadata": {},
     "output_type": "execute_result"
    }
   ],
   "source": [
    "# for example\n",
    "blobs[0][:5]"
   ]
  },
  {
   "cell_type": "code",
   "execution_count": 60,
   "metadata": {},
   "outputs": [],
   "source": [
    "#Your code here\n"
   ]
  },
  {
   "cell_type": "code",
   "execution_count": null,
   "metadata": {},
   "outputs": [],
   "source": []
  },
  {
   "cell_type": "markdown",
   "metadata": {},
   "source": [
    "To build a quality metric from the result of learning, you need to divide the original dataset into learning and test samples.\n",
    "\n",
    "We pay attention to the given parameter for the random number generator: random_state. Since the learning and test results will depend on how you separate the objects, it is suggested that you use a predetermined value to obtain the results agreed with the responses in the job verification system.\n",
    "\n",
    "train_data, test_data, train_labels, test_labels=model_selection.train_test_split(..... ,test_size=0.3, random_state=1)"
   ]
  },
  {
   "cell_type": "code",
   "execution_count": 61,
   "metadata": {},
   "outputs": [],
   "source": [
    "#Your code here\n"
   ]
  },
  {
   "cell_type": "markdown",
   "metadata": {},
   "source": [
    "Print the shape of the train_data, test_data, train_labels, test_labels use   .shape"
   ]
  },
  {
   "cell_type": "code",
   "execution_count": 62,
   "metadata": {},
   "outputs": [],
   "source": [
    "#Your code here"
   ]
  },
  {
   "cell_type": "code",
   "execution_count": null,
   "metadata": {},
   "outputs": [],
   "source": []
  },
  {
   "cell_type": "markdown",
   "metadata": {},
   "source": [
    "#### Linear classification\n",
    "##### RidgeClassifier"
   ]
  },
  {
   "cell_type": "markdown",
   "metadata": {},
   "source": [
    "Read please"
   ]
  },
  {
   "cell_type": "code",
   "execution_count": 63,
   "metadata": {},
   "outputs": [],
   "source": [
    "linear_model.RidgeClassifier?"
   ]
  },
  {
   "cell_type": "markdown",
   "metadata": {},
   "source": [
    "Using RidgeClassifier (http://scikit-learn.org/stable/modules/generated/sklearn.linear_model.RidgeClassifier.html#sklearn.linear_model.RidgeClassifier), build and train a model.\n",
    "\n",
    "Read please http://scikit-learn.org/stable/modules/linear_model.html#linear-model"
   ]
  },
  {
   "cell_type": "code",
   "execution_count": 64,
   "metadata": {},
   "outputs": [],
   "source": [
    "#Your code here\n",
    "# create object - classifier\n"
   ]
  },
  {
   "cell_type": "code",
   "execution_count": null,
   "metadata": {},
   "outputs": [],
   "source": []
  },
  {
   "cell_type": "code",
   "execution_count": 65,
   "metadata": {},
   "outputs": [],
   "source": [
    "#Your code here\n",
    "# classifier training  on the train data\n"
   ]
  },
  {
   "cell_type": "code",
   "execution_count": null,
   "metadata": {},
   "outputs": [],
   "source": []
  },
  {
   "cell_type": "code",
   "execution_count": 66,
   "metadata": {},
   "outputs": [],
   "source": [
    "#Your code here\n",
    "#Calculate predict for a test data  .predict(...)\n"
   ]
  },
  {
   "cell_type": "code",
   "execution_count": null,
   "metadata": {},
   "outputs": [],
   "source": []
  },
  {
   "cell_type": "code",
   "execution_count": 67,
   "metadata": {},
   "outputs": [],
   "source": [
    "#Your code here\n",
    "#Print predict for a test data and real test label\n",
    "#Compare them. What result do you see?\n"
   ]
  },
  {
   "cell_type": "code",
   "execution_count": null,
   "metadata": {},
   "outputs": [],
   "source": []
  },
  {
   "cell_type": "code",
   "execution_count": 68,
   "metadata": {},
   "outputs": [],
   "source": [
    "#Your code here\n",
    "# Do an assessment of the quality of the classification\n",
    "#Use the code below (remove #)\n",
    "# metrics.accuracy_score(test_labels, ridge_predictions)\n"
   ]
  },
  {
   "cell_type": "code",
   "execution_count": null,
   "metadata": {},
   "outputs": [],
   "source": []
  },
  {
   "cell_type": "code",
   "execution_count": 69,
   "metadata": {},
   "outputs": [],
   "source": [
    "#Your code here\n",
    "# Display the model's coefficients. Use .coef_ and .intercept_ \n"
   ]
  },
  {
   "cell_type": "code",
   "execution_count": null,
   "metadata": {},
   "outputs": [],
   "source": []
  },
  {
   "cell_type": "code",
   "execution_count": 70,
   "metadata": {},
   "outputs": [],
   "source": [
    "#Your code here\n",
    "#Using the model's coefficients, build a line separating the two classes.\n",
    "#Use the code below (remove #)\n",
    "\n",
    "#plt.figure(figsize=(5,5))\n",
    "#x=np.linspace(-20,10,2)\n",
    "#y= ridge_classifier.intercept_[0]+ridge_classifier.coef_[0,0]*x+ridge_classifier.coef_[0,1]*x\n",
    "#plt.scatter([x[0] for x in blobs[0]], [x[1] for x in blobs[0]], c=blobs[1], cmap=colors)\n",
    "#plt.plot(x,y)"
   ]
  },
  {
   "cell_type": "code",
   "execution_count": null,
   "metadata": {},
   "outputs": [],
   "source": []
  },
  {
   "cell_type": "markdown",
   "metadata": {},
   "source": [
    "##### LogisticRegression"
   ]
  },
  {
   "cell_type": "markdown",
   "metadata": {},
   "source": [
    "Read please"
   ]
  },
  {
   "cell_type": "code",
   "execution_count": 71,
   "metadata": {},
   "outputs": [],
   "source": [
    "linear_model.LogisticRegression?"
   ]
  },
  {
   "cell_type": "markdown",
   "metadata": {},
   "source": [
    "Using LogisticRegression (http://scikit-learn.org/stable/modules/generated/sklearn.linear_model.LogisticRegression.html#sklearn.linear_model.LogisticRegression), build and train a model.\n",
    "\n",
    "Read please http://scikit-learn.org/stable/modules/linear_model.html#linear-model"
   ]
  },
  {
   "cell_type": "code",
   "execution_count": 72,
   "metadata": {},
   "outputs": [],
   "source": [
    "#Your code here\n",
    "# create object - classifier"
   ]
  },
  {
   "cell_type": "code",
   "execution_count": null,
   "metadata": {},
   "outputs": [],
   "source": []
  },
  {
   "cell_type": "code",
   "execution_count": 73,
   "metadata": {},
   "outputs": [],
   "source": [
    "#Your code here\n",
    "# classifier training on the traine data\n"
   ]
  },
  {
   "cell_type": "code",
   "execution_count": null,
   "metadata": {},
   "outputs": [],
   "source": []
  },
  {
   "cell_type": "code",
   "execution_count": 74,
   "metadata": {},
   "outputs": [],
   "source": [
    "#Your code here\n",
    "#Calculate predict for a test data  .predict(...)\n",
    "#Calculate predict for a test data  .predict_proba (...)\n",
    "# What's the difference between .predict(...) and .predict_proba (...)? \n"
   ]
  },
  {
   "cell_type": "code",
   "execution_count": null,
   "metadata": {},
   "outputs": [],
   "source": []
  },
  {
   "cell_type": "code",
   "execution_count": 75,
   "metadata": {},
   "outputs": [],
   "source": [
    "#Your code here\n",
    "#Print predict and predict_proba for a test data and real test label\n",
    "#Compare them. What result do you see?\n"
   ]
  },
  {
   "cell_type": "code",
   "execution_count": null,
   "metadata": {},
   "outputs": [],
   "source": []
  },
  {
   "cell_type": "code",
   "execution_count": 76,
   "metadata": {},
   "outputs": [],
   "source": [
    "#Your code here\n",
    "# Do an assessment of the quality of the classification. \n",
    "# Print metrics for RidgeClassifier and LogisticRegression \n",
    "#Use the code below (remove #)\n",
    "# print (metrics.accuracy_score(test_labels, ridge_predictions))\n",
    "# print (.......)\n",
    "# Compare the accuracy of the two models. Which model is better?\n"
   ]
  },
  {
   "cell_type": "code",
   "execution_count": null,
   "metadata": {},
   "outputs": [],
   "source": []
  },
  {
   "cell_type": "code",
   "execution_count": 77,
   "metadata": {},
   "outputs": [],
   "source": [
    "#Your code here\n",
    "# Display the model's coefficients. Use .coef_ and .intercept_ \n"
   ]
  },
  {
   "cell_type": "code",
   "execution_count": null,
   "metadata": {},
   "outputs": [],
   "source": []
  },
  {
   "cell_type": "code",
   "execution_count": 78,
   "metadata": {},
   "outputs": [],
   "source": [
    "#Your code here\n",
    "#Using the model's coefficients (for RidgeClassifier and LogisticRegression), build a two lines separating the two classes.\n",
    "#Use the code below (remove #)\n",
    "\n",
    "#plt.figure(figsize=(5,5))\n",
    "#x=np.linspace(-20,10,2)\n",
    "#y= ridge_classifier.intercept_[0]+ridge_classifier.coef_[0,0]*x+ridge_classifier.coef_[0,1]*x\n",
    "#plt.scatter([x[0] for x in blobs[0]], [x[1] for x in blobs[0]], c=blobs[1], cmap=colors)\n",
    "#plt.plot(x,y)\n",
    "#..\n",
    "#..\n",
    "#..\n",
    "#..\n"
   ]
  },
  {
   "cell_type": "code",
   "execution_count": null,
   "metadata": {},
   "outputs": [],
   "source": []
  },
  {
   "cell_type": "markdown",
   "metadata": {},
   "source": [
    "#### Quality assessment by cross-validation"
   ]
  },
  {
   "cell_type": "markdown",
   "metadata": {},
   "source": [
    "Read please"
   ]
  },
  {
   "cell_type": "code",
   "execution_count": 79,
   "metadata": {},
   "outputs": [],
   "source": [
    "cross_validation.cross_val_score?"
   ]
  },
  {
   "cell_type": "markdown",
   "metadata": {},
   "source": [
    "Using cross-validation ( https://github.com/SerhiyProtsenko/LublinDataScienceWorkshop/blob/master/lectures/3.0%20-%20Evaluating%20models.%20Validation.%20Metrics.ipynb ) for all data blobs[0] and target blobs[1] . Print metrics for RidgeClassifier and LogisticRegression."
   ]
  },
  {
   "cell_type": "code",
   "execution_count": 80,
   "metadata": {},
   "outputs": [],
   "source": [
    "#Your code here\n",
    "#ridge_scoring = cross_validation.cross_val_score(..., ..., ..., scoring = 'accuracy', cv = 10)\n",
    "#print(ridge_scoring)\n",
    "#lr_scoring = cross_validation.cross_val_score(..., ..., ...., scoring = 'accuracy', cv = 10)\n",
    "#print(lr_scoring)"
   ]
  },
  {
   "cell_type": "code",
   "execution_count": null,
   "metadata": {},
   "outputs": [],
   "source": []
  },
  {
   "cell_type": "markdown",
   "metadata": {},
   "source": [
    "Output(print) on all 10 folds: the average value (for example: ridge_scoring.mean() ), .mean(), .max(), .min(), .std(). for RidgeClassifier and LogisticRegression."
   ]
  },
  {
   "cell_type": "code",
   "execution_count": 81,
   "metadata": {},
   "outputs": [],
   "source": [
    "#Your code here\n"
   ]
  },
  {
   "cell_type": "code",
   "execution_count": 82,
   "metadata": {},
   "outputs": [],
   "source": [
    "# Compare the accuracy of the two models. Which model is better?"
   ]
  },
  {
   "cell_type": "code",
   "execution_count": null,
   "metadata": {},
   "outputs": [],
   "source": []
  },
  {
   "cell_type": "markdown",
   "metadata": {},
   "source": [
    "## Task 2"
   ]
  },
  {
   "cell_type": "code",
   "execution_count": 83,
   "metadata": {},
   "outputs": [],
   "source": [
    "#Generating training data using sklearn\n",
    "data, target, coef = datasets.make_regression(n_features = 2, n_informative = 1, n_targets = 1, \n",
    "                                              noise = 5., coef = True, random_state = 2)"
   ]
  },
  {
   "cell_type": "markdown",
   "metadata": {},
   "source": [
    "Our dataset represents two columns of numerical values (features) and one target column (also a numeric value). In order to somehow display it on 2D graphics we will build two graphs:\n",
    "- the first, the dependence of the first column on the target (red dot)\n",
    "- the second, the dependence of the second column on the target (blue dot)\n",
    "\n",
    "As we see the first column correlates well with our target. And the second column is clearly noise data. Let's see how our models cope with noise.\n",
    "\n",
    "We will train our models on two columns (good and noisy). Our model should try to correctly predict our target (numeric value)."
   ]
  },
  {
   "cell_type": "code",
   "execution_count": 84,
   "metadata": {},
   "outputs": [
    {
     "data": {
      "text/plain": [
       "<matplotlib.collections.PathCollection at 0x23a253b1550>"
      ]
     },
     "execution_count": 84,
     "metadata": {},
     "output_type": "execute_result"
    },
    {
     "data": {
      "image/png": "[encoded data removed]",
      "text/plain": [
       "<matplotlib.figure.Figure at 0x23a253d2470>"
      ]
     },
     "metadata": {},
     "output_type": "display_data"
    }
   ],
   "source": [
    "#show our generated dataset\n",
    "#\n",
    "plt.scatter(list(map(lambda x:x[0], data)), target, color = 'r')\n",
    "plt.scatter(list(map(lambda x:x[1], data)), target, color = 'b')"
   ]
  },
  {
   "cell_type": "markdown",
   "metadata": {},
   "source": [
    "Study the structure of our data. What are the features? What is the response (target)? Print X (features) and Y (target) separately on the screen. Output the data type and the data sizes. Use: slicing of array, type()... "
   ]
  },
  {
   "cell_type": "code",
   "execution_count": 85,
   "metadata": {},
   "outputs": [
    {
     "data": {
      "text/plain": [
       "array([[-1.13431848, -0.70742089],\n",
       "       [-0.27617949, -0.51688389],\n",
       "       [-0.46200535,  0.35088849],\n",
       "       [ 0.36505352,  0.77408203],\n",
       "       [-1.02141473,  0.4323957 ]])"
      ]
     },
     "execution_count": 85,
     "metadata": {},
     "output_type": "execute_result"
    }
   ],
   "source": [
    "# for example\n",
    "data[:5]"
   ]
  },
  {
   "cell_type": "code",
   "execution_count": 86,
   "metadata": {},
   "outputs": [],
   "source": [
    "#Your code here\n"
   ]
  },
  {
   "cell_type": "code",
   "execution_count": null,
   "metadata": {},
   "outputs": [],
   "source": []
  },
  {
   "cell_type": "code",
   "execution_count": 87,
   "metadata": {},
   "outputs": [
    {
     "data": {
      "text/plain": [
       "<seaborn.axisgrid.PairGrid at 0x23a253b5e48>"
      ]
     },
     "execution_count": 87,
     "metadata": {},
     "output_type": "execute_result"
    },
    {
     "data": {
      "image/png": "[encoded data removed]",
      "text/plain": [
       "<matplotlib.figure.Figure at 0x23a253b5518>"
      ]
     },
     "metadata": {},
     "output_type": "display_data"
    }
   ],
   "source": [
    "# visualize the relationship between the features and the response.\n",
    "pdData=pd.DataFrame({'one':data[:,0],'two':data[:,1],'target':target})\n",
    "sns.pairplot(pdData, size=3)"
   ]
  },
  {
   "cell_type": "markdown",
   "metadata": {},
   "source": [
    "To build a quality metric from the result of learning, you need to divide the original dataset into learning and test samples.\n",
    "\n",
    "We pay attention to the given parameter for the random number generator: random_state. Since the learning and test results will depend on how you separate the objects, it is suggested that you use a predetermined value to obtain the results agreed with the responses in the job verification system.\n",
    "\n",
    "train_data, test_data, train_labels, test_labels=model_selection.train_test_split(..... ,test_size=0.3, random_state=1)"
   ]
  },
  {
   "cell_type": "code",
   "execution_count": 88,
   "metadata": {},
   "outputs": [],
   "source": [
    "#Your code here\n"
   ]
  },
  {
   "cell_type": "markdown",
   "metadata": {},
   "source": [
    "Print the shape of the train_data, test_data, train_labels, test_labels use   .shape"
   ]
  },
  {
   "cell_type": "code",
   "execution_count": 89,
   "metadata": {},
   "outputs": [],
   "source": [
    "#Your code here\n"
   ]
  },
  {
   "cell_type": "markdown",
   "metadata": {},
   "source": [
    "##### Linear regression"
   ]
  },
  {
   "cell_type": "markdown",
   "metadata": {},
   "source": [
    "Read please"
   ]
  },
  {
   "cell_type": "code",
   "execution_count": 90,
   "metadata": {},
   "outputs": [],
   "source": [
    "linear_model.LinearRegression?"
   ]
  },
  {
   "cell_type": "markdown",
   "metadata": {},
   "source": [
    "Using LinearRegression (http://scikit-learn.org/stable/modules/generated/sklearn.linear_model.LinearRegression.html#sklearn.linear_model.LinearRegression), build and train a model.\n",
    "\n",
    "Read please http://scikit-learn.org/stable/modules/linear_model.html#linear-model"
   ]
  },
  {
   "cell_type": "code",
   "execution_count": 91,
   "metadata": {},
   "outputs": [],
   "source": [
    "#Your code here\n",
    "# create object - LinearRegression\n",
    "#linear_regressor = linear_model.Line.....\n"
   ]
  },
  {
   "cell_type": "code",
   "execution_count": null,
   "metadata": {},
   "outputs": [],
   "source": []
  },
  {
   "cell_type": "code",
   "execution_count": 92,
   "metadata": {},
   "outputs": [],
   "source": [
    "#Your code here\n",
    "#training our model on the train data\n"
   ]
  },
  {
   "cell_type": "code",
   "execution_count": null,
   "metadata": {},
   "outputs": [],
   "source": []
  },
  {
   "cell_type": "code",
   "execution_count": 93,
   "metadata": {},
   "outputs": [],
   "source": [
    "#Your code here\n",
    "#Calculate predict for a test data  .predict(...)\n"
   ]
  },
  {
   "cell_type": "code",
   "execution_count": null,
   "metadata": {},
   "outputs": [],
   "source": []
  },
  {
   "cell_type": "code",
   "execution_count": 94,
   "metadata": {},
   "outputs": [],
   "source": [
    "#Your code here\n",
    "#Print predict for a test data and real test variable\n",
    "#Compare them. What result do you see?\n"
   ]
  },
  {
   "cell_type": "code",
   "execution_count": null,
   "metadata": {},
   "outputs": [],
   "source": []
  },
  {
   "cell_type": "code",
   "execution_count": 95,
   "metadata": {},
   "outputs": [],
   "source": [
    "#Your code here\n",
    "#Calculate and print \"Mean absolute error regression loss\" from module metrics: metrics.mean_absolute_error(.....)\n"
   ]
  },
  {
   "cell_type": "code",
   "execution_count": null,
   "metadata": {},
   "outputs": [],
   "source": []
  },
  {
   "cell_type": "markdown",
   "metadata": {},
   "source": [
    "Calculate and print $R^2$ score: .score(....)\n",
    "\n",
    "The score here is the $R^2$ score, or coefficient of determination, which measures how well a model performs relative to a simple mean of the target values. $R^2=1$ indicates a perfect match, $R^2=0$ indicates the model does no better than simply taking the mean of the data, and negative values mean even worse models."
   ]
  },
  {
   "cell_type": "code",
   "execution_count": 96,
   "metadata": {},
   "outputs": [],
   "source": [
    "#Your code here\n"
   ]
  },
  {
   "cell_type": "code",
   "execution_count": null,
   "metadata": {},
   "outputs": [],
   "source": []
  },
  {
   "cell_type": "code",
   "execution_count": 97,
   "metadata": {},
   "outputs": [],
   "source": [
    "#Your code here\n",
    "# Display the model's coefficients. Use .coef_ and .intercept_\n"
   ]
  },
  {
   "cell_type": "code",
   "execution_count": null,
   "metadata": {},
   "outputs": [],
   "source": []
  },
  {
   "cell_type": "code",
   "execution_count": 98,
   "metadata": {},
   "outputs": [],
   "source": [
    "#Print equation of the line\n",
    "#Use the code below (remove #)\n",
    "#print( \"y = {:.2f}*x1 + {:.2f}*x2 + {:.2f}\".format(linear_regressor.coef_[0], \n",
    "#                                                  linear_regressor.coef_[1], \n",
    "#                                                  linear_regressor.intercept_))\n"
   ]
  },
  {
   "cell_type": "code",
   "execution_count": null,
   "metadata": {},
   "outputs": [],
   "source": []
  },
  {
   "cell_type": "code",
   "execution_count": 99,
   "metadata": {},
   "outputs": [],
   "source": [
    "#Your code here\n",
    "#Using the model's coefficients, build a line.\n",
    "#Use the code below (remove #)\n",
    "\n",
    "#x=np.linspace(-3,4,2)\n",
    "#y= linear_regressor.intercept_+linear_regressor.coef_[0]*x+linear_regressor.coef_[1]*x\n",
    "#plt.scatter(list(map(lambda x:x[0], data)), target, color = 'r')\n",
    "#plt.scatter(list(map(lambda x:x[1], data)), target, color = 'b')\n",
    "#plt.plot(x,y)"
   ]
  },
  {
   "cell_type": "code",
   "execution_count": null,
   "metadata": {},
   "outputs": [],
   "source": []
  },
  {
   "cell_type": "markdown",
   "metadata": {},
   "source": [
    "Our model was able to make the right prediction?"
   ]
  },
  {
   "cell_type": "markdown",
   "metadata": {},
   "source": [
    "##### Lasso"
   ]
  },
  {
   "cell_type": "markdown",
   "metadata": {},
   "source": [
    "The Lasso is a linear model that estimates sparse coefficients. It is useful in some contexts due to its tendency to prefer solutions with fewer parameter values, effectively reducing the number of variables upon which the given solution is dependent."
   ]
  },
  {
   "cell_type": "markdown",
   "metadata": {},
   "source": [
    "The Lasso is a linear model which nullifies the coefficients near the non-informative or noise columns. In our dataset we have one noise column. Let's see how this model will work."
   ]
  },
  {
   "cell_type": "markdown",
   "metadata": {},
   "source": [
    "Read please"
   ]
  },
  {
   "cell_type": "code",
   "execution_count": 100,
   "metadata": {},
   "outputs": [],
   "source": [
    "linear_model.Lasso?"
   ]
  },
  {
   "cell_type": "markdown",
   "metadata": {},
   "source": [
    "Using Lasso (http://scikit-learn.org/stable/modules/generated/sklearn.linear_model.Lasso.html#sklearn.linear_model.Lasso), build and train a model.\n",
    "\n",
    "Read please http://scikit-learn.org/stable/modules/linear_model.html#linear-model"
   ]
  },
  {
   "cell_type": "code",
   "execution_count": 101,
   "metadata": {},
   "outputs": [],
   "source": [
    "#Your code here\n",
    "# create object - Lasso\n",
    "#lasso_regressor = linear_model.Lasso.....\n"
   ]
  },
  {
   "cell_type": "code",
   "execution_count": null,
   "metadata": {},
   "outputs": [],
   "source": []
  },
  {
   "cell_type": "code",
   "execution_count": 102,
   "metadata": {},
   "outputs": [],
   "source": [
    "#Your code here\n",
    "#training our model on the train data\n"
   ]
  },
  {
   "cell_type": "code",
   "execution_count": null,
   "metadata": {},
   "outputs": [],
   "source": []
  },
  {
   "cell_type": "code",
   "execution_count": 103,
   "metadata": {},
   "outputs": [],
   "source": [
    "#Your code here\n",
    "#Calculate predict for a test data  .predict(...)\n"
   ]
  },
  {
   "cell_type": "code",
   "execution_count": null,
   "metadata": {},
   "outputs": [],
   "source": []
  },
  {
   "cell_type": "code",
   "execution_count": 104,
   "metadata": {},
   "outputs": [],
   "source": [
    "#Your code here\n",
    "#Print predict for a test data and real test variable\n",
    "#Compare them. What result do you see?\n"
   ]
  },
  {
   "cell_type": "code",
   "execution_count": null,
   "metadata": {},
   "outputs": [],
   "source": []
  },
  {
   "cell_type": "code",
   "execution_count": 105,
   "metadata": {},
   "outputs": [],
   "source": [
    "#Your code here\n",
    "#Calculate and print \"Mean absolute error regression loss\" from module metrics: metrics.mean_absolute_error(.....)\n"
   ]
  },
  {
   "cell_type": "code",
   "execution_count": null,
   "metadata": {},
   "outputs": [],
   "source": []
  },
  {
   "cell_type": "markdown",
   "metadata": {},
   "source": [
    "Calculate and print $R^2$ score: .score(....)\n",
    "\n",
    "The score here is the $R^2$ score, or coefficient of determination, which measures how well a model performs relative to a simple mean of the target values. $R^2=1$ indicates a perfect match, $R^2=0$ indicates the model does no better than simply taking the mean of the data, and negative values mean even worse models."
   ]
  },
  {
   "cell_type": "code",
   "execution_count": 106,
   "metadata": {},
   "outputs": [],
   "source": [
    "#Your code here\n"
   ]
  },
  {
   "cell_type": "code",
   "execution_count": null,
   "metadata": {},
   "outputs": [],
   "source": []
  },
  {
   "cell_type": "code",
   "execution_count": 107,
   "metadata": {},
   "outputs": [],
   "source": [
    "#Your code here\n",
    "# Display the model's coefficients. Use .coef_ and .intercept_\n"
   ]
  },
  {
   "cell_type": "code",
   "execution_count": null,
   "metadata": {},
   "outputs": [],
   "source": []
  },
  {
   "cell_type": "code",
   "execution_count": 108,
   "metadata": {},
   "outputs": [],
   "source": [
    "#Print equation of the line\n",
    "#Use the code below (remove #)\n",
    "#print( \"y = {:.2f}*x1 + {:.2f}*x2 + {:.2f}\".format(lasso_regressor.coef_[0], \n",
    "#                                                  lasso_regressor.coef_[1], \n",
    "#                                                  lasso_regressor.intercept_))"
   ]
  },
  {
   "cell_type": "code",
   "execution_count": null,
   "metadata": {},
   "outputs": [],
   "source": []
  },
  {
   "cell_type": "code",
   "execution_count": 109,
   "metadata": {},
   "outputs": [],
   "source": [
    "#Your code here\n",
    "#Using the model's coefficients (for LinearRegression and Lasso), build a two lines \n",
    "#Use the code below (remove #)\n",
    "\n",
    "#x=np.linspace(-3,4,2)\n",
    "#y= linear_regressor.intercept_+linear_regressor.coef_[0]*x+linear_regressor.coef_[1]*x\n",
    "#plt.scatter(list(map(lambda x:x[0], data)), target, color = 'r')\n",
    "#plt.scatter(list(map(lambda x:x[1], data)), target, color = 'b')\n",
    "#plt.plot(x,y)\n",
    "#..\n",
    "#..\n",
    "#..\n",
    "#.."
   ]
  },
  {
   "cell_type": "code",
   "execution_count": null,
   "metadata": {},
   "outputs": [],
   "source": []
  },
  {
   "cell_type": "markdown",
   "metadata": {},
   "source": [
    "#### Quality assessment by cross-validation"
   ]
  },
  {
   "cell_type": "markdown",
   "metadata": {},
   "source": [
    "Read please"
   ]
  },
  {
   "cell_type": "code",
   "execution_count": 110,
   "metadata": {},
   "outputs": [],
   "source": [
    "cross_validation.cross_val_score?"
   ]
  },
  {
   "cell_type": "markdown",
   "metadata": {},
   "source": [
    "Using cross-validation ( https://github.com/SerhiyProtsenko/LublinDataScienceWorkshop/blob/master/lectures/3.0%20-%20Evaluating%20models.%20Validation.%20Metrics.ipynb ) for all data: data and target . Print metrics for LinearRegression and Lasso."
   ]
  },
  {
   "cell_type": "code",
   "execution_count": null,
   "metadata": {},
   "outputs": [],
   "source": []
  },
  {
   "cell_type": "code",
   "execution_count": 111,
   "metadata": {},
   "outputs": [],
   "source": [
    "#Your code here\n",
    "#linear_scoring = cross_validation.cross_val_score(..., ..., ..., scoring = 'accuracy', cv = 10)\n",
    "#print(linear_scoring)\n",
    "#lasso_scoring = cross_validation.cross_val_score(..., ..., ...., scoring = 'accuracy', cv = 10)\n",
    "#print(lasso_scoring)\n"
   ]
  },
  {
   "cell_type": "code",
   "execution_count": null,
   "metadata": {},
   "outputs": [],
   "source": []
  },
  {
   "cell_type": "markdown",
   "metadata": {},
   "source": [
    "Output(print) on all 10 folds: the average value : .mean(), .max(), .min(), .std(). for LinearRegression and Lasso."
   ]
  },
  {
   "cell_type": "code",
   "execution_count": 112,
   "metadata": {},
   "outputs": [],
   "source": [
    "#Your code here"
   ]
  },
  {
   "cell_type": "code",
   "execution_count": null,
   "metadata": {},
   "outputs": [],
   "source": []
  },
  {
   "cell_type": "code",
   "execution_count": 113,
   "metadata": {},
   "outputs": [],
   "source": [
    "# Compare the accuracy of the two models. Which model is better?"
   ]
  },
  {
   "cell_type": "code",
   "execution_count": null,
   "metadata": {},
   "outputs": [],
   "source": []
  }
 ],
 "metadata": {
  "kernelspec": {
   "display_name": "Python [default]",
   "language": "python",
   "name": "python3"
  },
  "language_info": {
   "codemirror_mode": {
    "name": "ipython",
    "version": 3
   },
   "file_extension": ".py",
   "mimetype": "text/x-python",
   "name": "python",
   "nbconvert_exporter": "python",
   "pygments_lexer": "ipython3",
   "version": "3.6.4"
  }
 },
 "nbformat": 4,
 "nbformat_minor": 2
}
