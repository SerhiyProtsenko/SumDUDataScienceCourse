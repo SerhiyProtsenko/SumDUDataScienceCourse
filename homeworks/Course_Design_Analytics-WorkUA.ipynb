{
 "cells": [
  {
   "cell_type": "markdown",
   "metadata": {},
   "source": [
    "# Analytics based on Skills - Work.UA"
   ]
  },
  {
   "cell_type": "markdown",
   "metadata": {},
   "source": [
    "### Install and import libraries"
   ]
  },
  {
   "cell_type": "code",
   "execution_count": null,
   "metadata": {},
   "outputs": [],
   "source": [
    "!pip install bs4"
   ]
  },
  {
   "cell_type": "code",
   "execution_count": 1,
   "metadata": {},
   "outputs": [],
   "source": [
    "import matplotlib as plt\n",
    "import pandas as pd\n",
    "import numpy as np\n",
    "import bs4\n",
    "import re\n",
    "from urllib.request import urlopen as uReq\n",
    "#from bs4 import BeautifulSoup as soup\n",
    "from bs4 import BeautifulSoup\n",
    "#import urllib"
   ]
  },
  {
   "cell_type": "markdown",
   "metadata": {},
   "source": [
    "### Define job title and geographic location\n",
    "\n",
    "Search Work.ua web-site for \"Data Scientist\" job vacancies."
   ]
  },
  {
   "cell_type": "code",
   "execution_count": 3,
   "metadata": {},
   "outputs": [
    {
     "data": {
      "text/plain": [
       "'https://www.work.ua/jobs-data+scientist/'"
      ]
     },
     "execution_count": 3,
     "metadata": {},
     "output_type": "execute_result"
    }
   ],
   "source": [
    "#jobtitle = str(input(\"Please enter the job title: \"))\n",
    "jobtitle = 'data scientist'\n",
    "#location = str(input(\"Please enter the job location:\"))\n",
    "#location = 'Toronto'\n",
    "query1=jobtitle.replace(' ','+')\n",
    "#query2=location.replace(' ','+')\n",
    "url_base = 'https://www.work.ua'\n",
    "urlorig = url_base + '/jobs-'+query1+'/'\n",
    "urlorig"
   ]
  },
  {
   "cell_type": "code",
   "execution_count": 4,
   "metadata": {},
   "outputs": [],
   "source": [
    "url = uReq(urlorig)\n",
    "page_html = url.read()\n",
    "url.close()"
   ]
  },
  {
   "cell_type": "code",
   "execution_count": 5,
   "metadata": {},
   "outputs": [],
   "source": [
    "page_soup = BeautifulSoup(page_html,'html.parser')\n",
    "#print(page_soup)"
   ]
  },
  {
   "cell_type": "code",
   "execution_count": 6,
   "metadata": {},
   "outputs": [
    {
     "name": "stdout",
     "output_type": "stream",
     "text": [
      "/jobs-data+scientist/?ss=1&page=2 Сторінка 2\n",
      "/jobs-data+scientist/?ss=1&page=3 Сторінка 3\n",
      "/jobs-data+scientist/?ss=1&page=44 Сторінка 44\n"
     ]
    }
   ],
   "source": [
    "links = []\n",
    "\n",
    "for link in page_soup.find_all('a'):\n",
    "    if link.get('title'):\n",
    "        if link.get('title').startswith(\"Сторінка\"):\n",
    "            links.append(link.get('href'))\n",
    "            print(link.get('href'),link.get('title'))"
   ]
  },
  {
   "cell_type": "code",
   "execution_count": 7,
   "metadata": {},
   "outputs": [
    {
     "data": {
      "text/plain": [
       "'/jobs-data+scientist/?ss=1&page=44'"
      ]
     },
     "execution_count": 7,
     "metadata": {},
     "output_type": "execute_result"
    }
   ],
   "source": [
    "links[-1]"
   ]
  },
  {
   "cell_type": "code",
   "execution_count": 8,
   "metadata": {},
   "outputs": [
    {
     "data": {
      "text/plain": [
       "'/jobs-data+scientist/?ss=1&page='"
      ]
     },
     "execution_count": 8,
     "metadata": {},
     "output_type": "execute_result"
    }
   ],
   "source": [
    "try:\n",
    "    num_pages = re.search('page=(.*)', links[-1])\n",
    "    N_pages = int(num_pages.group(1))\n",
    "except:\n",
    "    N_pages = 1\n",
    "url_pages = links[-1][:-len(str(N_pages))]\n",
    "url_pages"
   ]
  },
  {
   "cell_type": "markdown",
   "metadata": {},
   "source": [
    "### Create list of job vacancies\n",
    "\n",
    "Extract knowledge of technologies (Python, Excel, R, Matlab, Hadoop, Spark, etc.)"
   ]
  },
  {
   "cell_type": "code",
   "execution_count": 9,
   "metadata": {},
   "outputs": [
    {
     "name": "stdout",
     "output_type": "stream",
     "text": [
      "https://www.work.ua/jobs-data+scientist/?ss=1&page=1   14 jobs\n",
      "https://www.work.ua/jobs-data+scientist/?ss=1&page=2   14 jobs\n",
      "https://www.work.ua/jobs-data+scientist/?ss=1&page=3   14 jobs\n",
      "https://www.work.ua/jobs-data+scientist/?ss=1&page=4   14 jobs\n",
      "https://www.work.ua/jobs-data+scientist/?ss=1&page=5   14 jobs\n",
      "https://www.work.ua/jobs-data+scientist/?ss=1&page=6   14 jobs\n",
      "https://www.work.ua/jobs-data+scientist/?ss=1&page=7   14 jobs\n",
      "https://www.work.ua/jobs-data+scientist/?ss=1&page=8   14 jobs\n",
      "https://www.work.ua/jobs-data+scientist/?ss=1&page=9   14 jobs\n",
      "https://www.work.ua/jobs-data+scientist/?ss=1&page=10   14 jobs\n",
      "https://www.work.ua/jobs-data+scientist/?ss=1&page=11   14 jobs\n",
      "https://www.work.ua/jobs-data+scientist/?ss=1&page=12   14 jobs\n",
      "https://www.work.ua/jobs-data+scientist/?ss=1&page=13   14 jobs\n",
      "https://www.work.ua/jobs-data+scientist/?ss=1&page=14   14 jobs\n",
      "https://www.work.ua/jobs-data+scientist/?ss=1&page=15   14 jobs\n",
      "https://www.work.ua/jobs-data+scientist/?ss=1&page=16   14 jobs\n",
      "https://www.work.ua/jobs-data+scientist/?ss=1&page=17   14 jobs\n",
      "https://www.work.ua/jobs-data+scientist/?ss=1&page=18   14 jobs\n",
      "https://www.work.ua/jobs-data+scientist/?ss=1&page=19   14 jobs\n",
      "https://www.work.ua/jobs-data+scientist/?ss=1&page=20   14 jobs\n",
      "https://www.work.ua/jobs-data+scientist/?ss=1&page=21   14 jobs\n",
      "https://www.work.ua/jobs-data+scientist/?ss=1&page=22   14 jobs\n",
      "https://www.work.ua/jobs-data+scientist/?ss=1&page=23   14 jobs\n",
      "https://www.work.ua/jobs-data+scientist/?ss=1&page=24   14 jobs\n",
      "https://www.work.ua/jobs-data+scientist/?ss=1&page=25   14 jobs\n",
      "https://www.work.ua/jobs-data+scientist/?ss=1&page=26   14 jobs\n",
      "https://www.work.ua/jobs-data+scientist/?ss=1&page=27   14 jobs\n",
      "https://www.work.ua/jobs-data+scientist/?ss=1&page=28   14 jobs\n",
      "https://www.work.ua/jobs-data+scientist/?ss=1&page=29   14 jobs\n",
      "https://www.work.ua/jobs-data+scientist/?ss=1&page=30   14 jobs\n",
      "https://www.work.ua/jobs-data+scientist/?ss=1&page=31   14 jobs\n",
      "https://www.work.ua/jobs-data+scientist/?ss=1&page=32   14 jobs\n",
      "https://www.work.ua/jobs-data+scientist/?ss=1&page=33   14 jobs\n",
      "https://www.work.ua/jobs-data+scientist/?ss=1&page=34   14 jobs\n",
      "https://www.work.ua/jobs-data+scientist/?ss=1&page=35   14 jobs\n",
      "https://www.work.ua/jobs-data+scientist/?ss=1&page=36   14 jobs\n",
      "https://www.work.ua/jobs-data+scientist/?ss=1&page=37   14 jobs\n",
      "https://www.work.ua/jobs-data+scientist/?ss=1&page=38   14 jobs\n",
      "https://www.work.ua/jobs-data+scientist/?ss=1&page=39   14 jobs\n",
      "https://www.work.ua/jobs-data+scientist/?ss=1&page=40   14 jobs\n",
      "https://www.work.ua/jobs-data+scientist/?ss=1&page=41   14 jobs\n",
      "https://www.work.ua/jobs-data+scientist/?ss=1&page=42   14 jobs\n",
      "https://www.work.ua/jobs-data+scientist/?ss=1&page=43   14 jobs\n",
      "https://www.work.ua/jobs-data+scientist/?ss=1&page=44   9 jobs\n"
     ]
    }
   ],
   "source": [
    "# Empty list for job_title, company_name, location, job_description, job skills\n",
    "titles = []\n",
    "company_names = []\n",
    "location_names = []\n",
    "job_descriptions = []\n",
    "job_descriptHTML = []\n",
    "job_ids = []\n",
    "skills = {}\n",
    "skills['Python'] = []\n",
    "skills['R '] = []\n",
    "skills['Matlab'] = []\n",
    "skills['Excel'] = []\n",
    "skills['SAS'] = []\n",
    "skills['SQL'] = []\n",
    "skills['SPSS'] = []\n",
    "skills['Hadoop'] = []\n",
    "skills['Spark'] = []\n",
    "\n",
    "#for i in range(1,3):\n",
    "for i in range(1,N_pages+1):\n",
    "    \n",
    "    # html parsing Work.ua job portal page \n",
    "    my_url = url_base + url_pages + str(i)\n",
    "    uClient = uReq(my_url)\n",
    "    page_html = uClient.read()\n",
    "    uClient.close()\n",
    "    page_soup = BeautifulSoup(page_html,'html.parser')\n",
    "    \n",
    "    # extract job_title\n",
    "    jobs = page_soup.findAll('div',{'class': 'job-link'})\n",
    "    print(my_url,' ',len(jobs), 'jobs')\n",
    "    for job in jobs:\n",
    "        try:\n",
    "            title = job.find(class_='add-bottom-sm').get_text()\n",
    "            title = title.strip(' \\t\\n\\r')\n",
    "            titles.append(title)\n",
    "        except:\n",
    "            title = \"N/A\"\n",
    "            titles.append(title)\n",
    "\n",
    "    links = page_soup.findAll(\"h2\", class_ = \"add-bottom-sm\")   \n",
    "\n",
    "    for link in links:\n",
    "\n",
    "        #print(url_base + link.a[\"href\"])\n",
    "        Jb = uReq(url_base + link.a[\"href\"])\n",
    "        try:\n",
    "            res_id = re.search('\\/jobs\\/(.*)\\/', link.a[\"href\"])\n",
    "            job_ids.append(res_id.group(1))\n",
    "        except:\n",
    "            job_ids.append(\"\")\n",
    "\n",
    "        Jb_html = Jb.read()\n",
    "        Jb.close()\n",
    "        Jb_soup = BeautifulSoup(Jb_html, \"html.parser\")\n",
    "        \n",
    "        html = u\"\"\n",
    "        for tag in Jb_soup.find(\"h1\").next_siblings:\n",
    "            if tag.name == \"div\":\n",
    "                break\n",
    "            else:\n",
    "                html += str(tag)\n",
    "                #html += unicode(tag)\n",
    "\n",
    "        cleantext = BeautifulSoup(str(html), 'lxml').text\n",
    "        \n",
    "        job_descriptHTML.append(html)\n",
    "\n",
    "        try:\n",
    "            job_descriptions.append(cleantext)  \n",
    "        except:\n",
    "            job_descriptions.append(\"NA\")  \n",
    "            \n",
    "        if(\"excel\" in cleantext.lower()):\n",
    "            skills['Excel'].append('1')\n",
    "        else:\n",
    "            skills['Excel'].append('0')\n",
    "            \n",
    "        if(\"python\" in cleantext.lower()):\n",
    "            skills['Python'].append('1')\n",
    "        else:\n",
    "            skills['Python'].append('0')\n",
    "            \n",
    "        if(\"R \" in cleantext):\n",
    "            skills['R '].append('1')\n",
    "        else:\n",
    "            skills['R '].append('0')\n",
    "        \n",
    "        if(\"matlab\" in cleantext.lower()):\n",
    "            skills['Matlab'].append('1')\n",
    "        else:\n",
    "            skills['Matlab'].append('0')\n",
    "        \n",
    "        if(\"sas\" in cleantext.lower()):\n",
    "            skills['SAS'].append('1')\n",
    "        else:\n",
    "            skills['SAS'].append('0')\n",
    "            \n",
    "        if(\"sql\" in cleantext.lower()):\n",
    "            skills['SQL'].append('1')\n",
    "        else:\n",
    "            skills['SQL'].append('0')\n",
    "            \n",
    "        if(\"spss\" in cleantext.lower()):\n",
    "            skills['SPSS'].append('1')\n",
    "        else:\n",
    "            skills['SPSS'].append('0')\n",
    "            \n",
    "        if(\"hadoop\" in cleantext.lower()):\n",
    "            skills['Hadoop'].append('1')\n",
    "        else:\n",
    "            skills['Hadoop'].append('0')\n",
    "        \n",
    "        if(\"spark\" in cleantext.lower()):\n",
    "            skills['Spark'].append('1')\n",
    "        else:\n",
    "            skills['Spark'].append('0')"
   ]
  },
  {
   "cell_type": "markdown",
   "metadata": {},
   "source": [
    "### Create dataframe with job vacancies and save it to csv file"
   ]
  },
  {
   "cell_type": "code",
   "execution_count": 10,
   "metadata": {
    "scrolled": false
   },
   "outputs": [
    {
     "data": {
      "text/html": [
       "<div>\n",
       "<style scoped>\n",
       "    .dataframe tbody tr th:only-of-type {\n",
       "        vertical-align: middle;\n",
       "    }\n",
       "\n",
       "    .dataframe tbody tr th {\n",
       "        vertical-align: top;\n",
       "    }\n",
       "\n",
       "    .dataframe thead th {\n",
       "        text-align: right;\n",
       "    }\n",
       "</style>\n",
       "<table border=\"1\" class=\"dataframe\">\n",
       "  <thead>\n",
       "    <tr style=\"text-align: right;\">\n",
       "      <th></th>\n",
       "      <th>Job_DescripHTML</th>\n",
       "      <th>Job_Description</th>\n",
       "      <th>Job_ID</th>\n",
       "      <th>Job_Title</th>\n",
       "      <th>Excel</th>\n",
       "      <th>Hadoop</th>\n",
       "      <th>Matlab</th>\n",
       "      <th>Python</th>\n",
       "      <th>R</th>\n",
       "      <th>SAS</th>\n",
       "      <th>SPSS</th>\n",
       "      <th>SQL</th>\n",
       "      <th>Spark</th>\n",
       "    </tr>\n",
       "  </thead>\n",
       "  <tbody>\n",
       "    <tr>\n",
       "      <th>0</th>\n",
       "      <td>\\n&lt;h3 class=\"text-muted text-muted-print\"&gt;&lt;b&gt;1...</td>\n",
       "      <td>12000 грн \\n\\nКомпанія:\\n\\nШвидкоГрошi\\n VIP  ...</td>\n",
       "      <td>3296699</td>\n",
       "      <td>Кредитный аналитик, верификатор, специалист по...</td>\n",
       "      <td>0</td>\n",
       "      <td>0</td>\n",
       "      <td>0</td>\n",
       "      <td>0</td>\n",
       "      <td>0</td>\n",
       "      <td>0</td>\n",
       "      <td>0</td>\n",
       "      <td>0</td>\n",
       "      <td>0</td>\n",
       "    </tr>\n",
       "    <tr>\n",
       "      <th>1</th>\n",
       "      <td>\\n&lt;h3 class=\"text-muted text-muted-print\"&gt;&lt;b&gt;1...</td>\n",
       "      <td>12000 грн \\n\\nКомпанія:\\n\\nЛопань\\n           ...</td>\n",
       "      <td>3338965</td>\n",
       "      <td>Бухгалтер-аналитик, 12000 грн</td>\n",
       "      <td>0</td>\n",
       "      <td>0</td>\n",
       "      <td>0</td>\n",
       "      <td>0</td>\n",
       "      <td>0</td>\n",
       "      <td>0</td>\n",
       "      <td>0</td>\n",
       "      <td>0</td>\n",
       "      <td>0</td>\n",
       "    </tr>\n",
       "    <tr>\n",
       "      <th>2</th>\n",
       "      <td>\\n&lt;dl class=\"dl-horizontal\"&gt;\\n&lt;dt&gt;Компанія:&lt;/d...</td>\n",
       "      <td>\\nКомпанія:\\n\\nMadness Media\\n                ...</td>\n",
       "      <td>3360254</td>\n",
       "      <td>Digital Analyst</td>\n",
       "      <td>0</td>\n",
       "      <td>0</td>\n",
       "      <td>0</td>\n",
       "      <td>1</td>\n",
       "      <td>0</td>\n",
       "      <td>0</td>\n",
       "      <td>0</td>\n",
       "      <td>1</td>\n",
       "      <td>0</td>\n",
       "    </tr>\n",
       "    <tr>\n",
       "      <th>3</th>\n",
       "      <td>\\n&lt;dl class=\"dl-horizontal\"&gt;\\n&lt;dt&gt;Компанія:&lt;/d...</td>\n",
       "      <td>\\nКомпанія:\\n\\nМакси Маркетинг\\n VIP          ...</td>\n",
       "      <td>3365383</td>\n",
       "      <td>Аналитик</td>\n",
       "      <td>1</td>\n",
       "      <td>0</td>\n",
       "      <td>0</td>\n",
       "      <td>0</td>\n",
       "      <td>0</td>\n",
       "      <td>0</td>\n",
       "      <td>0</td>\n",
       "      <td>0</td>\n",
       "      <td>0</td>\n",
       "    </tr>\n",
       "    <tr>\n",
       "      <th>4</th>\n",
       "      <td>\\n&lt;h3 class=\"text-muted text-muted-print\"&gt;&lt;b&gt;9...</td>\n",
       "      <td>9000 грн \\n\\nКомпанія:\\n\\nКредитКафе\\n        ...</td>\n",
       "      <td>1326234</td>\n",
       "      <td>Специалист аналитического отдела, верификатор,...</td>\n",
       "      <td>0</td>\n",
       "      <td>0</td>\n",
       "      <td>0</td>\n",
       "      <td>0</td>\n",
       "      <td>0</td>\n",
       "      <td>0</td>\n",
       "      <td>0</td>\n",
       "      <td>0</td>\n",
       "      <td>0</td>\n",
       "    </tr>\n",
       "  </tbody>\n",
       "</table>\n",
       "</div>"
      ],
      "text/plain": [
       "                                     Job_DescripHTML  \\\n",
       "0  \\n<h3 class=\"text-muted text-muted-print\"><b>1...   \n",
       "1  \\n<h3 class=\"text-muted text-muted-print\"><b>1...   \n",
       "2  \\n<dl class=\"dl-horizontal\">\\n<dt>Компанія:</d...   \n",
       "3  \\n<dl class=\"dl-horizontal\">\\n<dt>Компанія:</d...   \n",
       "4  \\n<h3 class=\"text-muted text-muted-print\"><b>9...   \n",
       "\n",
       "                                     Job_Description   Job_ID  \\\n",
       "0  12000 грн \\n\\nКомпанія:\\n\\nШвидкоГрошi\\n VIP  ...  3296699   \n",
       "1  12000 грн \\n\\nКомпанія:\\n\\nЛопань\\n           ...  3338965   \n",
       "2  \\nКомпанія:\\n\\nMadness Media\\n                ...  3360254   \n",
       "3  \\nКомпанія:\\n\\nМакси Маркетинг\\n VIP          ...  3365383   \n",
       "4  9000 грн \\n\\nКомпанія:\\n\\nКредитКафе\\n        ...  1326234   \n",
       "\n",
       "                                           Job_Title Excel Hadoop Matlab  \\\n",
       "0  Кредитный аналитик, верификатор, специалист по...     0      0      0   \n",
       "1                      Бухгалтер-аналитик, 12000 грн     0      0      0   \n",
       "2                                    Digital Analyst     0      0      0   \n",
       "3                                           Аналитик     1      0      0   \n",
       "4  Специалист аналитического отдела, верификатор,...     0      0      0   \n",
       "\n",
       "  Python R  SAS SPSS SQL Spark  \n",
       "0      0  0   0    0   0     0  \n",
       "1      0  0   0    0   0     0  \n",
       "2      1  0   0    0   1     0  \n",
       "3      0  0   0    0   0     0  \n",
       "4      0  0   0    0   0     0  "
      ]
     },
     "execution_count": 10,
     "metadata": {},
     "output_type": "execute_result"
    }
   ],
   "source": [
    "d = {'Job_ID':job_ids,'Job_Title':titles,'Job_Description':job_descriptions,'Job_DescripHTML':job_descriptHTML}\n",
    "df1 = pd.DataFrame(d)\n",
    "df2 = pd.DataFrame(skills)\n",
    "frames = [df1, df2]\n",
    "results = pd.concat(frames, axis = 1)\n",
    "results.head()"
   ]
  },
  {
   "cell_type": "code",
   "execution_count": 11,
   "metadata": {},
   "outputs": [
    {
     "data": {
      "text/html": [
       "<div>\n",
       "<style scoped>\n",
       "    .dataframe tbody tr th:only-of-type {\n",
       "        vertical-align: middle;\n",
       "    }\n",
       "\n",
       "    .dataframe tbody tr th {\n",
       "        vertical-align: top;\n",
       "    }\n",
       "\n",
       "    .dataframe thead th {\n",
       "        text-align: right;\n",
       "    }\n",
       "</style>\n",
       "<table border=\"1\" class=\"dataframe\">\n",
       "  <thead>\n",
       "    <tr style=\"text-align: right;\">\n",
       "      <th></th>\n",
       "      <th>Job_DescripHTML</th>\n",
       "      <th>Job_Description</th>\n",
       "      <th>Job_ID</th>\n",
       "      <th>Job_Title</th>\n",
       "      <th>Excel</th>\n",
       "      <th>Hadoop</th>\n",
       "      <th>Matlab</th>\n",
       "      <th>Python</th>\n",
       "      <th>R</th>\n",
       "      <th>SAS</th>\n",
       "      <th>SPSS</th>\n",
       "      <th>SQL</th>\n",
       "      <th>Spark</th>\n",
       "    </tr>\n",
       "  </thead>\n",
       "  <tbody>\n",
       "    <tr>\n",
       "      <th>606</th>\n",
       "      <td>\\n&lt;dl class=\"dl-horizontal\"&gt;\\n&lt;dt&gt;Компанія:&lt;/d...</td>\n",
       "      <td>\\nКомпанія:\\n\\nLevelUP, рекрутинговое агентств...</td>\n",
       "      <td>3341357</td>\n",
       "      <td>Report Analyst</td>\n",
       "      <td>1</td>\n",
       "      <td>0</td>\n",
       "      <td>0</td>\n",
       "      <td>0</td>\n",
       "      <td>0</td>\n",
       "      <td>0</td>\n",
       "      <td>0</td>\n",
       "      <td>1</td>\n",
       "      <td>0</td>\n",
       "    </tr>\n",
       "    <tr>\n",
       "      <th>607</th>\n",
       "      <td>\\n&lt;dl class=\"dl-horizontal\"&gt;\\n&lt;dt&gt;Компанія:&lt;/d...</td>\n",
       "      <td>\\nКомпанія:\\n\\nSocialMedia.Market\\n\\n         ...</td>\n",
       "      <td>3341292</td>\n",
       "      <td>Web/Data Analyst (Middle+)</td>\n",
       "      <td>1</td>\n",
       "      <td>0</td>\n",
       "      <td>0</td>\n",
       "      <td>1</td>\n",
       "      <td>0</td>\n",
       "      <td>0</td>\n",
       "      <td>0</td>\n",
       "      <td>1</td>\n",
       "      <td>0</td>\n",
       "    </tr>\n",
       "    <tr>\n",
       "      <th>608</th>\n",
       "      <td>\\n&lt;dl class=\"dl-horizontal\"&gt;\\n&lt;dt&gt;Компанія:&lt;/d...</td>\n",
       "      <td>\\nКомпанія:\\n\\nTogether Networks\\n            ...</td>\n",
       "      <td>3340948</td>\n",
       "      <td>Business analyst</td>\n",
       "      <td>0</td>\n",
       "      <td>0</td>\n",
       "      <td>0</td>\n",
       "      <td>0</td>\n",
       "      <td>0</td>\n",
       "      <td>0</td>\n",
       "      <td>0</td>\n",
       "      <td>0</td>\n",
       "      <td>0</td>\n",
       "    </tr>\n",
       "    <tr>\n",
       "      <th>609</th>\n",
       "      <td>\\n&lt;h3 class=\"text-muted text-muted-print\"&gt;&lt;b&gt;6...</td>\n",
       "      <td>6000 грн \\n\\nКомпанія:\\n\\nFinSoft\\n           ...</td>\n",
       "      <td>3119144</td>\n",
       "      <td>Младший аналитик 1С, 6000 грн</td>\n",
       "      <td>0</td>\n",
       "      <td>0</td>\n",
       "      <td>0</td>\n",
       "      <td>0</td>\n",
       "      <td>0</td>\n",
       "      <td>0</td>\n",
       "      <td>0</td>\n",
       "      <td>0</td>\n",
       "      <td>0</td>\n",
       "    </tr>\n",
       "    <tr>\n",
       "      <th>610</th>\n",
       "      <td>\\n&lt;h3 class=\"text-muted text-muted-print\"&gt; По ...</td>\n",
       "      <td>По результатам собеседования\\n\\nКомпанія:\\n\\n...</td>\n",
       "      <td>3225828</td>\n",
       "      <td>Аналитик 1C</td>\n",
       "      <td>0</td>\n",
       "      <td>0</td>\n",
       "      <td>0</td>\n",
       "      <td>0</td>\n",
       "      <td>0</td>\n",
       "      <td>0</td>\n",
       "      <td>0</td>\n",
       "      <td>0</td>\n",
       "      <td>0</td>\n",
       "    </tr>\n",
       "  </tbody>\n",
       "</table>\n",
       "</div>"
      ],
      "text/plain": [
       "                                       Job_DescripHTML  \\\n",
       "606  \\n<dl class=\"dl-horizontal\">\\n<dt>Компанія:</d...   \n",
       "607  \\n<dl class=\"dl-horizontal\">\\n<dt>Компанія:</d...   \n",
       "608  \\n<dl class=\"dl-horizontal\">\\n<dt>Компанія:</d...   \n",
       "609  \\n<h3 class=\"text-muted text-muted-print\"><b>6...   \n",
       "610  \\n<h3 class=\"text-muted text-muted-print\"> По ...   \n",
       "\n",
       "                                       Job_Description   Job_ID  \\\n",
       "606  \\nКомпанія:\\n\\nLevelUP, рекрутинговое агентств...  3341357   \n",
       "607  \\nКомпанія:\\n\\nSocialMedia.Market\\n\\n         ...  3341292   \n",
       "608  \\nКомпанія:\\n\\nTogether Networks\\n            ...  3340948   \n",
       "609  6000 грн \\n\\nКомпанія:\\n\\nFinSoft\\n           ...  3119144   \n",
       "610   По результатам собеседования\\n\\nКомпанія:\\n\\n...  3225828   \n",
       "\n",
       "                         Job_Title Excel Hadoop Matlab Python R  SAS SPSS SQL  \\\n",
       "606                 Report Analyst     1      0      0      0  0   0    0   1   \n",
       "607     Web/Data Analyst (Middle+)     1      0      0      1  0   0    0   1   \n",
       "608               Business analyst     0      0      0      0  0   0    0   0   \n",
       "609  Младший аналитик 1С, 6000 грн     0      0      0      0  0   0    0   0   \n",
       "610                    Аналитик 1C     0      0      0      0  0   0    0   0   \n",
       "\n",
       "    Spark  \n",
       "606     0  \n",
       "607     0  \n",
       "608     0  \n",
       "609     0  \n",
       "610     0  "
      ]
     },
     "execution_count": 11,
     "metadata": {},
     "output_type": "execute_result"
    }
   ],
   "source": [
    "results.tail()"
   ]
  },
  {
   "cell_type": "code",
   "execution_count": 12,
   "metadata": {},
   "outputs": [],
   "source": [
    "results.to_csv('WorkUA_job_vacancies.csv')"
   ]
  },
  {
   "cell_type": "markdown",
   "metadata": {},
   "source": [
    "### Plot percent of vacancies requiring knowledge of technology stacks"
   ]
  },
  {
   "cell_type": "code",
   "execution_count": 13,
   "metadata": {
    "scrolled": true
   },
   "outputs": [
    {
     "data": {
      "text/plain": [
       "<matplotlib.axes._subplots.AxesSubplot at 0x101051d0>"
      ]
     },
     "execution_count": 13,
     "metadata": {},
     "output_type": "execute_result"
    },
    {
     "data": {
      "image/png": "[encoded data removed]",
      "text/plain": [
       "<Figure size 432x288 with 1 Axes>"
      ]
     },
     "metadata": {},
     "output_type": "display_data"
    }
   ],
   "source": [
    "%matplotlib inline\n",
    "df2.apply(pd.to_numeric).mean().plot(kind='bar')"
   ]
  },
  {
   "cell_type": "code",
   "execution_count": 14,
   "metadata": {
    "scrolled": true
   },
   "outputs": [
    {
     "data": {
      "text/plain": [
       "<matplotlib.axes._subplots.AxesSubplot at 0x1021bd68>"
      ]
     },
     "execution_count": 14,
     "metadata": {},
     "output_type": "execute_result"
    },
    {
     "data": {
      "image/png": "[encoded data removed]",
      "text/plain": [
       "<Figure size 432x288 with 1 Axes>"
      ]
     },
     "metadata": {},
     "output_type": "display_data"
    }
   ],
   "source": [
    "df2.apply(pd.to_numeric).mean().plot(kind='bar',ylim=(0.0,0.6))"
   ]
  },
  {
   "cell_type": "code",
   "execution_count": null,
   "metadata": {},
   "outputs": [],
   "source": []
  }
 ],
 "metadata": {
  "kernelspec": {
   "display_name": "Python 3",
   "language": "python",
   "name": "python3"
  },
  "language_info": {
   "codemirror_mode": {
    "name": "ipython",
    "version": 3
   },
   "file_extension": ".py",
   "mimetype": "text/x-python",
   "name": "python",
   "nbconvert_exporter": "python",
   "pygments_lexer": "ipython3",
   "version": "3.7.1"
  }
 },
 "nbformat": 4,
 "nbformat_minor": 2
}
