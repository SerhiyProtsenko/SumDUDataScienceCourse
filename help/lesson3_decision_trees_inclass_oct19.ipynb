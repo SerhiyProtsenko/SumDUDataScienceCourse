{
 "cells": [
  {
   "cell_type": "code",
   "execution_count": 53,
   "metadata": {},
   "outputs": [],
   "source": [
    "import pandas as pd\n",
    "from matplotlib import pyplot as plt\n",
    "# pip install seaborn / conda install seaborn\n",
    "import seaborn as sns\n",
    "import numpy as np"
   ]
  },
  {
   "cell_type": "markdown",
   "metadata": {},
   "source": [
    "### Для аналізу візмемо відомий нам датасет телеком оператора"
   ]
  },
  {
   "cell_type": "code",
   "execution_count": 54,
   "metadata": {},
   "outputs": [],
   "source": [
    "df = pd.read_csv('../Data/telecom_churn.csv')"
   ]
  },
  {
   "cell_type": "code",
   "execution_count": 55,
   "metadata": {},
   "outputs": [
    {
     "data": {
      "text/html": [
       "<div>\n",
       "<style scoped>\n",
       "    .dataframe tbody tr th:only-of-type {\n",
       "        vertical-align: middle;\n",
       "    }\n",
       "\n",
       "    .dataframe tbody tr th {\n",
       "        vertical-align: top;\n",
       "    }\n",
       "\n",
       "    .dataframe thead th {\n",
       "        text-align: right;\n",
       "    }\n",
       "</style>\n",
       "<table border=\"1\" class=\"dataframe\">\n",
       "  <thead>\n",
       "    <tr style=\"text-align: right;\">\n",
       "      <th></th>\n",
       "      <th>State</th>\n",
       "      <th>Account length</th>\n",
       "      <th>Area code</th>\n",
       "      <th>International plan</th>\n",
       "      <th>Voice mail plan</th>\n",
       "      <th>Number vmail messages</th>\n",
       "      <th>Total day minutes</th>\n",
       "      <th>Total day calls</th>\n",
       "      <th>Total day charge</th>\n",
       "      <th>Total eve minutes</th>\n",
       "      <th>Total eve calls</th>\n",
       "      <th>Total eve charge</th>\n",
       "      <th>Total night minutes</th>\n",
       "      <th>Total night calls</th>\n",
       "      <th>Total night charge</th>\n",
       "      <th>Total intl minutes</th>\n",
       "      <th>Total intl calls</th>\n",
       "      <th>Total intl charge</th>\n",
       "      <th>Customer service calls</th>\n",
       "      <th>Churn</th>\n",
       "    </tr>\n",
       "  </thead>\n",
       "  <tbody>\n",
       "    <tr>\n",
       "      <th>0</th>\n",
       "      <td>KS</td>\n",
       "      <td>128</td>\n",
       "      <td>415</td>\n",
       "      <td>No</td>\n",
       "      <td>Yes</td>\n",
       "      <td>25</td>\n",
       "      <td>265.1</td>\n",
       "      <td>110</td>\n",
       "      <td>45.07</td>\n",
       "      <td>197.4</td>\n",
       "      <td>99</td>\n",
       "      <td>16.78</td>\n",
       "      <td>244.7</td>\n",
       "      <td>91</td>\n",
       "      <td>11.01</td>\n",
       "      <td>10.0</td>\n",
       "      <td>3</td>\n",
       "      <td>2.70</td>\n",
       "      <td>1</td>\n",
       "      <td>False</td>\n",
       "    </tr>\n",
       "    <tr>\n",
       "      <th>1</th>\n",
       "      <td>OH</td>\n",
       "      <td>107</td>\n",
       "      <td>415</td>\n",
       "      <td>No</td>\n",
       "      <td>Yes</td>\n",
       "      <td>26</td>\n",
       "      <td>161.6</td>\n",
       "      <td>123</td>\n",
       "      <td>27.47</td>\n",
       "      <td>195.5</td>\n",
       "      <td>103</td>\n",
       "      <td>16.62</td>\n",
       "      <td>254.4</td>\n",
       "      <td>103</td>\n",
       "      <td>11.45</td>\n",
       "      <td>13.7</td>\n",
       "      <td>3</td>\n",
       "      <td>3.70</td>\n",
       "      <td>1</td>\n",
       "      <td>False</td>\n",
       "    </tr>\n",
       "    <tr>\n",
       "      <th>2</th>\n",
       "      <td>NJ</td>\n",
       "      <td>137</td>\n",
       "      <td>415</td>\n",
       "      <td>No</td>\n",
       "      <td>No</td>\n",
       "      <td>0</td>\n",
       "      <td>243.4</td>\n",
       "      <td>114</td>\n",
       "      <td>41.38</td>\n",
       "      <td>121.2</td>\n",
       "      <td>110</td>\n",
       "      <td>10.30</td>\n",
       "      <td>162.6</td>\n",
       "      <td>104</td>\n",
       "      <td>7.32</td>\n",
       "      <td>12.2</td>\n",
       "      <td>5</td>\n",
       "      <td>3.29</td>\n",
       "      <td>0</td>\n",
       "      <td>False</td>\n",
       "    </tr>\n",
       "    <tr>\n",
       "      <th>3</th>\n",
       "      <td>OH</td>\n",
       "      <td>84</td>\n",
       "      <td>408</td>\n",
       "      <td>Yes</td>\n",
       "      <td>No</td>\n",
       "      <td>0</td>\n",
       "      <td>299.4</td>\n",
       "      <td>71</td>\n",
       "      <td>50.90</td>\n",
       "      <td>61.9</td>\n",
       "      <td>88</td>\n",
       "      <td>5.26</td>\n",
       "      <td>196.9</td>\n",
       "      <td>89</td>\n",
       "      <td>8.86</td>\n",
       "      <td>6.6</td>\n",
       "      <td>7</td>\n",
       "      <td>1.78</td>\n",
       "      <td>2</td>\n",
       "      <td>False</td>\n",
       "    </tr>\n",
       "    <tr>\n",
       "      <th>4</th>\n",
       "      <td>OK</td>\n",
       "      <td>75</td>\n",
       "      <td>415</td>\n",
       "      <td>Yes</td>\n",
       "      <td>No</td>\n",
       "      <td>0</td>\n",
       "      <td>166.7</td>\n",
       "      <td>113</td>\n",
       "      <td>28.34</td>\n",
       "      <td>148.3</td>\n",
       "      <td>122</td>\n",
       "      <td>12.61</td>\n",
       "      <td>186.9</td>\n",
       "      <td>121</td>\n",
       "      <td>8.41</td>\n",
       "      <td>10.1</td>\n",
       "      <td>3</td>\n",
       "      <td>2.73</td>\n",
       "      <td>3</td>\n",
       "      <td>False</td>\n",
       "    </tr>\n",
       "  </tbody>\n",
       "</table>\n",
       "</div>"
      ],
      "text/plain": [
       "  State  Account length  Area code International plan Voice mail plan  \\\n",
       "0    KS             128        415                 No             Yes   \n",
       "1    OH             107        415                 No             Yes   \n",
       "2    NJ             137        415                 No              No   \n",
       "3    OH              84        408                Yes              No   \n",
       "4    OK              75        415                Yes              No   \n",
       "\n",
       "   Number vmail messages  Total day minutes  Total day calls  \\\n",
       "0                     25              265.1              110   \n",
       "1                     26              161.6              123   \n",
       "2                      0              243.4              114   \n",
       "3                      0              299.4               71   \n",
       "4                      0              166.7              113   \n",
       "\n",
       "   Total day charge  Total eve minutes  Total eve calls  Total eve charge  \\\n",
       "0             45.07              197.4               99             16.78   \n",
       "1             27.47              195.5              103             16.62   \n",
       "2             41.38              121.2              110             10.30   \n",
       "3             50.90               61.9               88              5.26   \n",
       "4             28.34              148.3              122             12.61   \n",
       "\n",
       "   Total night minutes  Total night calls  Total night charge  \\\n",
       "0                244.7                 91               11.01   \n",
       "1                254.4                103               11.45   \n",
       "2                162.6                104                7.32   \n",
       "3                196.9                 89                8.86   \n",
       "4                186.9                121                8.41   \n",
       "\n",
       "   Total intl minutes  Total intl calls  Total intl charge  \\\n",
       "0                10.0                 3               2.70   \n",
       "1                13.7                 3               3.70   \n",
       "2                12.2                 5               3.29   \n",
       "3                 6.6                 7               1.78   \n",
       "4                10.1                 3               2.73   \n",
       "\n",
       "   Customer service calls  Churn  \n",
       "0                       1  False  \n",
       "1                       1  False  \n",
       "2                       0  False  \n",
       "3                       2  False  \n",
       "4                       3  False  "
      ]
     },
     "execution_count": 55,
     "metadata": {},
     "output_type": "execute_result"
    }
   ],
   "source": [
    "df.head()"
   ]
  },
  {
   "cell_type": "code",
   "execution_count": 56,
   "metadata": {},
   "outputs": [
    {
     "name": "stdout",
     "output_type": "stream",
     "text": [
      "<class 'pandas.core.frame.DataFrame'>\n",
      "RangeIndex: 3333 entries, 0 to 3332\n",
      "Data columns (total 20 columns):\n",
      "State                     3333 non-null object\n",
      "Account length            3333 non-null int64\n",
      "Area code                 3333 non-null int64\n",
      "International plan        3333 non-null object\n",
      "Voice mail plan           3333 non-null object\n",
      "Number vmail messages     3333 non-null int64\n",
      "Total day minutes         3333 non-null float64\n",
      "Total day calls           3333 non-null int64\n",
      "Total day charge          3333 non-null float64\n",
      "Total eve minutes         3333 non-null float64\n",
      "Total eve calls           3333 non-null int64\n",
      "Total eve charge          3333 non-null float64\n",
      "Total night minutes       3333 non-null float64\n",
      "Total night calls         3333 non-null int64\n",
      "Total night charge        3333 non-null float64\n",
      "Total intl minutes        3333 non-null float64\n",
      "Total intl calls          3333 non-null int64\n",
      "Total intl charge         3333 non-null float64\n",
      "Customer service calls    3333 non-null int64\n",
      "Churn                     3333 non-null bool\n",
      "dtypes: bool(1), float64(8), int64(8), object(3)\n",
      "memory usage: 498.1+ KB\n"
     ]
    }
   ],
   "source": [
    "df.info()"
   ]
  },
  {
   "cell_type": "code",
   "execution_count": 57,
   "metadata": {},
   "outputs": [
    {
     "data": {
      "text/plain": [
       "(3333, 20)"
      ]
     },
     "execution_count": 57,
     "metadata": {},
     "output_type": "execute_result"
    }
   ],
   "source": [
    "df.shape"
   ]
  },
  {
   "cell_type": "code",
   "execution_count": 7,
   "metadata": {},
   "outputs": [
    {
     "name": "stdout",
     "output_type": "stream",
     "text": [
      "<class 'pandas.core.frame.DataFrame'>\n",
      "RangeIndex: 3333 entries, 0 to 3332\n",
      "Data columns (total 20 columns):\n",
      "State                     3333 non-null object\n",
      "Account length            3333 non-null int64\n",
      "Area code                 3333 non-null int64\n",
      "International plan        3333 non-null object\n",
      "Voice mail plan           3333 non-null object\n",
      "Number vmail messages     3333 non-null int64\n",
      "Total day minutes         3333 non-null float64\n",
      "Total day calls           3333 non-null int64\n",
      "Total day charge          3333 non-null float64\n",
      "Total eve minutes         3333 non-null float64\n",
      "Total eve calls           3333 non-null int64\n",
      "Total eve charge          3333 non-null float64\n",
      "Total night minutes       3333 non-null float64\n",
      "Total night calls         3333 non-null int64\n",
      "Total night charge        3333 non-null float64\n",
      "Total intl minutes        3333 non-null float64\n",
      "Total intl calls          3333 non-null int64\n",
      "Total intl charge         3333 non-null float64\n",
      "Customer service calls    3333 non-null int64\n",
      "Churn                     3333 non-null bool\n",
      "dtypes: bool(1), float64(8), int64(8), object(3)\n",
      "memory usage: 498.1+ KB\n"
     ]
    }
   ],
   "source": [
    "df.info()"
   ]
  },
  {
   "cell_type": "markdown",
   "metadata": {},
   "source": [
    "**Slight preprocessing**"
   ]
  },
  {
   "cell_type": "markdown",
   "metadata": {},
   "source": [
    "### Оскільки з \"коробки\" дерева рішень вимагають тільки числові фітчі, зробимо перетворення"
   ]
  },
  {
   "cell_type": "code",
   "execution_count": 58,
   "metadata": {},
   "outputs": [],
   "source": [
    "df['International plan'] = df['International plan'].map({'Yes': 1, 'No': 0})\n",
    "df['Voice mail plan'] = df['Voice mail plan'].map({'Yes': 1, 'No': 0})"
   ]
  },
  {
   "cell_type": "code",
   "execution_count": 59,
   "metadata": {},
   "outputs": [],
   "source": [
    "df['Churn'] = df['Churn'].astype('int')"
   ]
  },
  {
   "cell_type": "code",
   "execution_count": 60,
   "metadata": {},
   "outputs": [
    {
     "data": {
      "text/html": [
       "<div>\n",
       "<style scoped>\n",
       "    .dataframe tbody tr th:only-of-type {\n",
       "        vertical-align: middle;\n",
       "    }\n",
       "\n",
       "    .dataframe tbody tr th {\n",
       "        vertical-align: top;\n",
       "    }\n",
       "\n",
       "    .dataframe thead th {\n",
       "        text-align: right;\n",
       "    }\n",
       "</style>\n",
       "<table border=\"1\" class=\"dataframe\">\n",
       "  <thead>\n",
       "    <tr style=\"text-align: right;\">\n",
       "      <th></th>\n",
       "      <th>State</th>\n",
       "      <th>Account length</th>\n",
       "      <th>Area code</th>\n",
       "      <th>International plan</th>\n",
       "      <th>Voice mail plan</th>\n",
       "      <th>Number vmail messages</th>\n",
       "      <th>Total day minutes</th>\n",
       "      <th>Total day calls</th>\n",
       "      <th>Total day charge</th>\n",
       "      <th>Total eve minutes</th>\n",
       "      <th>Total eve calls</th>\n",
       "      <th>Total eve charge</th>\n",
       "      <th>Total night minutes</th>\n",
       "      <th>Total night calls</th>\n",
       "      <th>Total night charge</th>\n",
       "      <th>Total intl minutes</th>\n",
       "      <th>Total intl calls</th>\n",
       "      <th>Total intl charge</th>\n",
       "      <th>Customer service calls</th>\n",
       "      <th>Churn</th>\n",
       "    </tr>\n",
       "  </thead>\n",
       "  <tbody>\n",
       "    <tr>\n",
       "      <th>0</th>\n",
       "      <td>KS</td>\n",
       "      <td>128</td>\n",
       "      <td>415</td>\n",
       "      <td>0</td>\n",
       "      <td>1</td>\n",
       "      <td>25</td>\n",
       "      <td>265.1</td>\n",
       "      <td>110</td>\n",
       "      <td>45.07</td>\n",
       "      <td>197.4</td>\n",
       "      <td>99</td>\n",
       "      <td>16.78</td>\n",
       "      <td>244.7</td>\n",
       "      <td>91</td>\n",
       "      <td>11.01</td>\n",
       "      <td>10.0</td>\n",
       "      <td>3</td>\n",
       "      <td>2.70</td>\n",
       "      <td>1</td>\n",
       "      <td>0</td>\n",
       "    </tr>\n",
       "    <tr>\n",
       "      <th>1</th>\n",
       "      <td>OH</td>\n",
       "      <td>107</td>\n",
       "      <td>415</td>\n",
       "      <td>0</td>\n",
       "      <td>1</td>\n",
       "      <td>26</td>\n",
       "      <td>161.6</td>\n",
       "      <td>123</td>\n",
       "      <td>27.47</td>\n",
       "      <td>195.5</td>\n",
       "      <td>103</td>\n",
       "      <td>16.62</td>\n",
       "      <td>254.4</td>\n",
       "      <td>103</td>\n",
       "      <td>11.45</td>\n",
       "      <td>13.7</td>\n",
       "      <td>3</td>\n",
       "      <td>3.70</td>\n",
       "      <td>1</td>\n",
       "      <td>0</td>\n",
       "    </tr>\n",
       "    <tr>\n",
       "      <th>2</th>\n",
       "      <td>NJ</td>\n",
       "      <td>137</td>\n",
       "      <td>415</td>\n",
       "      <td>0</td>\n",
       "      <td>0</td>\n",
       "      <td>0</td>\n",
       "      <td>243.4</td>\n",
       "      <td>114</td>\n",
       "      <td>41.38</td>\n",
       "      <td>121.2</td>\n",
       "      <td>110</td>\n",
       "      <td>10.30</td>\n",
       "      <td>162.6</td>\n",
       "      <td>104</td>\n",
       "      <td>7.32</td>\n",
       "      <td>12.2</td>\n",
       "      <td>5</td>\n",
       "      <td>3.29</td>\n",
       "      <td>0</td>\n",
       "      <td>0</td>\n",
       "    </tr>\n",
       "    <tr>\n",
       "      <th>3</th>\n",
       "      <td>OH</td>\n",
       "      <td>84</td>\n",
       "      <td>408</td>\n",
       "      <td>1</td>\n",
       "      <td>0</td>\n",
       "      <td>0</td>\n",
       "      <td>299.4</td>\n",
       "      <td>71</td>\n",
       "      <td>50.90</td>\n",
       "      <td>61.9</td>\n",
       "      <td>88</td>\n",
       "      <td>5.26</td>\n",
       "      <td>196.9</td>\n",
       "      <td>89</td>\n",
       "      <td>8.86</td>\n",
       "      <td>6.6</td>\n",
       "      <td>7</td>\n",
       "      <td>1.78</td>\n",
       "      <td>2</td>\n",
       "      <td>0</td>\n",
       "    </tr>\n",
       "    <tr>\n",
       "      <th>4</th>\n",
       "      <td>OK</td>\n",
       "      <td>75</td>\n",
       "      <td>415</td>\n",
       "      <td>1</td>\n",
       "      <td>0</td>\n",
       "      <td>0</td>\n",
       "      <td>166.7</td>\n",
       "      <td>113</td>\n",
       "      <td>28.34</td>\n",
       "      <td>148.3</td>\n",
       "      <td>122</td>\n",
       "      <td>12.61</td>\n",
       "      <td>186.9</td>\n",
       "      <td>121</td>\n",
       "      <td>8.41</td>\n",
       "      <td>10.1</td>\n",
       "      <td>3</td>\n",
       "      <td>2.73</td>\n",
       "      <td>3</td>\n",
       "      <td>0</td>\n",
       "    </tr>\n",
       "  </tbody>\n",
       "</table>\n",
       "</div>"
      ],
      "text/plain": [
       "  State  Account length  Area code  International plan  Voice mail plan  \\\n",
       "0    KS             128        415                   0                1   \n",
       "1    OH             107        415                   0                1   \n",
       "2    NJ             137        415                   0                0   \n",
       "3    OH              84        408                   1                0   \n",
       "4    OK              75        415                   1                0   \n",
       "\n",
       "   Number vmail messages  Total day minutes  Total day calls  \\\n",
       "0                     25              265.1              110   \n",
       "1                     26              161.6              123   \n",
       "2                      0              243.4              114   \n",
       "3                      0              299.4               71   \n",
       "4                      0              166.7              113   \n",
       "\n",
       "   Total day charge  Total eve minutes  Total eve calls  Total eve charge  \\\n",
       "0             45.07              197.4               99             16.78   \n",
       "1             27.47              195.5              103             16.62   \n",
       "2             41.38              121.2              110             10.30   \n",
       "3             50.90               61.9               88              5.26   \n",
       "4             28.34              148.3              122             12.61   \n",
       "\n",
       "   Total night minutes  Total night calls  Total night charge  \\\n",
       "0                244.7                 91               11.01   \n",
       "1                254.4                103               11.45   \n",
       "2                162.6                104                7.32   \n",
       "3                196.9                 89                8.86   \n",
       "4                186.9                121                8.41   \n",
       "\n",
       "   Total intl minutes  Total intl calls  Total intl charge  \\\n",
       "0                10.0                 3               2.70   \n",
       "1                13.7                 3               3.70   \n",
       "2                12.2                 5               3.29   \n",
       "3                 6.6                 7               1.78   \n",
       "4                10.1                 3               2.73   \n",
       "\n",
       "   Customer service calls  Churn  \n",
       "0                       1      0  \n",
       "1                       1      0  \n",
       "2                       0      0  \n",
       "3                       2      0  \n",
       "4                       3      0  "
      ]
     },
     "execution_count": 60,
     "metadata": {},
     "output_type": "execute_result"
    }
   ],
   "source": [
    "df.head()"
   ]
  },
  {
   "cell_type": "markdown",
   "metadata": {},
   "source": [
    "**Save states as a Series and drop for now from the DataFrame**"
   ]
  },
  {
   "cell_type": "markdown",
   "metadata": {},
   "source": [
    "Фітчу State приберемо, оскільки вона категоріальна і в даному прикладі для нас неважлива"
   ]
  },
  {
   "cell_type": "code",
   "execution_count": 61,
   "metadata": {},
   "outputs": [],
   "source": [
    "states = df.pop('State')"
   ]
  },
  {
   "cell_type": "markdown",
   "metadata": {},
   "source": [
    "**Split the DataFrame into a matrix `X` and vector `y` which form the trainin set**"
   ]
  },
  {
   "cell_type": "markdown",
   "metadata": {},
   "source": [
    "Створимо датасет Х (тільки фітчі) та стовпчик таргет - y окремо"
   ]
  },
  {
   "cell_type": "code",
   "execution_count": 62,
   "metadata": {},
   "outputs": [],
   "source": [
    "X, y = df.drop('Churn', axis=1), df['Churn']"
   ]
  },
  {
   "cell_type": "code",
   "execution_count": 63,
   "metadata": {},
   "outputs": [
    {
     "data": {
      "text/plain": [
       "((3333, 18), (3333,))"
      ]
     },
     "execution_count": 63,
     "metadata": {},
     "output_type": "execute_result"
    }
   ],
   "source": [
    "X.shape, y.shape"
   ]
  },
  {
   "cell_type": "markdown",
   "metadata": {},
   "source": [
    "### Для побудови та валідації моделей ми будемо використовувати наступні кроки:\n",
    "- розділимо датасет на трейн (якій будемо використовувати для навчання моделі)\n",
    "- та тест (якій будемо використовувати для валідації - перевірки нашої моделі)"
   ]
  },
  {
   "cell_type": "code",
   "execution_count": 64,
   "metadata": {},
   "outputs": [],
   "source": [
    "from sklearn.model_selection import train_test_split"
   ]
  },
  {
   "cell_type": "code",
   "execution_count": 66,
   "metadata": {},
   "outputs": [],
   "source": [
    "X_train, X_holdout,  y_train, y_holdout = \\\n",
    "    train_test_split(X, y, test_size=.3, random_state=17)"
   ]
  },
  {
   "cell_type": "code",
   "execution_count": 16,
   "metadata": {},
   "outputs": [
    {
     "data": {
      "text/plain": [
       "((2333, 18), (1000, 18))"
      ]
     },
     "execution_count": 16,
     "metadata": {},
     "output_type": "execute_result"
    }
   ],
   "source": [
    "X_train.shape, X_holdout.shape"
   ]
  },
  {
   "cell_type": "code",
   "execution_count": null,
   "metadata": {},
   "outputs": [],
   "source": []
  },
  {
   "cell_type": "markdown",
   "metadata": {},
   "source": [
    "### Побудуємо нашу першу модель\n",
    "#### Для цього необхідно зробити всього три кроки:\n",
    "- створити об'єкт: tree = DecisionTreeClassifier(random_state=17)\n",
    "- навчити модель викоритовуючи метод .fit: tree.fit(X_train, y_train)  навчаємо на трейн даних\n",
    "- зробити предикт на тест даних використовуючи метод .predict: tree.predict(X_holdout)\n",
    "- порівняти реальний тартет з предиктом та порахувати метрику наприклад долю вірних відповідей: accuracy_score(pred_holdout,y_holdout)"
   ]
  },
  {
   "cell_type": "code",
   "execution_count": 67,
   "metadata": {},
   "outputs": [],
   "source": [
    "from sklearn.tree import DecisionTreeClassifier"
   ]
  },
  {
   "cell_type": "code",
   "execution_count": 69,
   "metadata": {},
   "outputs": [],
   "source": [
    "tree = DecisionTreeClassifier(random_state=17)"
   ]
  },
  {
   "cell_type": "markdown",
   "metadata": {},
   "source": [
    "\"fit-predict\""
   ]
  },
  {
   "cell_type": "code",
   "execution_count": 70,
   "metadata": {},
   "outputs": [
    {
     "data": {
      "text/plain": [
       "DecisionTreeClassifier(class_weight=None, criterion='gini', max_depth=None,\n",
       "            max_features=None, max_leaf_nodes=None,\n",
       "            min_impurity_decrease=0.0, min_impurity_split=None,\n",
       "            min_samples_leaf=1, min_samples_split=2,\n",
       "            min_weight_fraction_leaf=0.0, presort=False, random_state=17,\n",
       "            splitter='best')"
      ]
     },
     "execution_count": 70,
     "metadata": {},
     "output_type": "execute_result"
    }
   ],
   "source": [
    "tree.fit(X_train, y_train)"
   ]
  },
  {
   "cell_type": "code",
   "execution_count": 71,
   "metadata": {},
   "outputs": [],
   "source": [
    "from sklearn.metrics import accuracy_score"
   ]
  },
  {
   "cell_type": "code",
   "execution_count": 72,
   "metadata": {},
   "outputs": [],
   "source": [
    "pred_holdout=tree.predict(X_holdout)"
   ]
  },
  {
   "cell_type": "code",
   "execution_count": 75,
   "metadata": {},
   "outputs": [
    {
     "data": {
      "text/plain": [
       "((1000,), (1000,))"
      ]
     },
     "execution_count": 75,
     "metadata": {},
     "output_type": "execute_result"
    }
   ],
   "source": [
    "pred_holdout.shape, y_holdout.shape"
   ]
  },
  {
   "cell_type": "code",
   "execution_count": 76,
   "metadata": {},
   "outputs": [
    {
     "data": {
      "text/plain": [
       "0.921"
      ]
     },
     "execution_count": 76,
     "metadata": {},
     "output_type": "execute_result"
    }
   ],
   "source": [
    "accuracy_score(pred_holdout,y_holdout)"
   ]
  },
  {
   "cell_type": "markdown",
   "metadata": {},
   "source": [
    "### Ми отримали accuracy_score 0.921 погано це чи гарно?\n",
    "- відповідь на це питанння дасть баланс класів нашого таргету\n",
    "- як ми бачимо, у нас класи не збалансовані але 0.921 краще ніж безлайн 0.867 (якщо ми будемо завжди передбачати 0) "
   ]
  },
  {
   "cell_type": "code",
   "execution_count": 84,
   "metadata": {},
   "outputs": [
    {
     "data": {
      "text/plain": [
       "0    2850\n",
       "1     483\n",
       "Name: Churn, dtype: int64"
      ]
     },
     "execution_count": 84,
     "metadata": {},
     "output_type": "execute_result"
    }
   ],
   "source": [
    "y.value_counts()"
   ]
  },
  {
   "cell_type": "code",
   "execution_count": 85,
   "metadata": {},
   "outputs": [
    {
     "data": {
      "text/plain": [
       "0    0.867\n",
       "1    0.133\n",
       "Name: Churn, dtype: float64"
      ]
     },
     "execution_count": 85,
     "metadata": {},
     "output_type": "execute_result"
    }
   ],
   "source": [
    "y_holdout.value_counts(normalize=True)"
   ]
  },
  {
   "cell_type": "code",
   "execution_count": null,
   "metadata": {},
   "outputs": [],
   "source": []
  },
  {
   "cell_type": "markdown",
   "metadata": {},
   "source": [
    "### Більш правильним підходом при валідації моделі є кросс-валідація, оскільки вона дає більш стабільні оцінки, особливо її застосовують при підборі гіперпараметрів моделі, оскільки це запобігає перенавчанню"
   ]
  },
  {
   "cell_type": "code",
   "execution_count": 86,
   "metadata": {},
   "outputs": [],
   "source": [
    "from sklearn.model_selection import cross_val_score, StratifiedKFold"
   ]
  },
  {
   "cell_type": "code",
   "execution_count": 87,
   "metadata": {},
   "outputs": [],
   "source": [
    "from tqdm import tqdm_notebook"
   ]
  },
  {
   "cell_type": "code",
   "execution_count": 27,
   "metadata": {},
   "outputs": [],
   "source": [
    "skf = StratifiedKFold(n_splits=5, shuffle=True, random_state=17)"
   ]
  },
  {
   "cell_type": "code",
   "execution_count": 88,
   "metadata": {},
   "outputs": [
    {
     "data": {
      "text/plain": [
       "0.9078429570539743"
      ]
     },
     "execution_count": 88,
     "metadata": {},
     "output_type": "execute_result"
    }
   ],
   "source": [
    "cross_val_score(estimator=tree, X=X_train, y=y_train, cv=skf).mean()"
   ]
  },
  {
   "cell_type": "markdown",
   "metadata": {},
   "source": [
    "### Давайте спробуємо порахувати accuracy в залежності від гіперпараметру - глибина дерева max_depth"
   ]
  },
  {
   "cell_type": "code",
   "execution_count": 119,
   "metadata": {},
   "outputs": [
    {
     "data": {
      "application/vnd.jupyter.widget-view+json": {
       "model_id": "70f9c7453e6d4d26a88feb723b37119c",
       "version_major": 2,
       "version_minor": 0
      },
      "text/plain": [
       "HBox(children=(IntProgress(value=0, max=29), HTML(value='')))"
      ]
     },
     "metadata": {},
     "output_type": "display_data"
    },
    {
     "name": "stdout",
     "output_type": "stream",
     "text": [
      "\n"
     ]
    }
   ],
   "source": [
    "cv_accuracies_by_depth, ho_accuracies_by_depth = [], []\n",
    "\n",
    "max_depth_values = np.arange(1, 30)\n",
    "\n",
    "# for each value of max depth \n",
    "for curr_max_depth in tqdm_notebook(max_depth_values):\n",
    "    tree = DecisionTreeClassifier(random_state=17, max_depth=curr_max_depth)\n",
    "\n",
    "    # perform cross-validation\n",
    "    val_scores = cross_val_score(estimator=tree, X=X_train, y=y_train, cv=skf)\n",
    "    cv_accuracies_by_depth.append(val_scores.mean())\n",
    "    \n",
    "    # assess the model with the holdout set\n",
    "    tree.fit(X_train, y_train)\n",
    "    \n",
    "    cuur_ho_pred = tree.predict(X_holdout)\n",
    "    \n",
    "    ho_accuracies_by_depth.append(accuracy_score(y_holdout, cuur_ho_pred))"
   ]
  },
  {
   "cell_type": "markdown",
   "metadata": {},
   "source": [
    "### Як ми бачимо,що сильно глибокі дерева призводять до перенавчання, оптімальним є значення глибини 5-7. Менше 5 глибина призводить до того, що алгоритм слабкий "
   ]
  },
  {
   "cell_type": "code",
   "execution_count": 120,
   "metadata": {},
   "outputs": [
    {
     "data": {
      "image/png": "[encoded data removed]",
      "text/plain": [
       "<Figure size 432x288 with 1 Axes>"
      ]
     },
     "metadata": {
      "needs_background": "light"
     },
     "output_type": "display_data"
    }
   ],
   "source": [
    "plt.plot(max_depth_values, cv_accuracies_by_depth, label='CV', c='blue')\n",
    "plt.plot(max_depth_values, ho_accuracies_by_depth, label='holdout', c='orange')\n",
    "plt.legend();\n",
    "plt.xlabel('max depth')\n",
    "plt.ylabel('Accuracy')\n",
    "plt.title('DT validation curves for max_depth');"
   ]
  },
  {
   "cell_type": "code",
   "execution_count": null,
   "metadata": {},
   "outputs": [],
   "source": []
  },
  {
   "cell_type": "markdown",
   "metadata": {},
   "source": [
    "### Підбор параметрів краще робити за допомогою відповідного класу GridSearchCV, якій здійснює перебір всіх параметрів, які ви вкажете та обере накращі гіперпараметри використовуючи кросс-валідацію за метрикою (наприклад accuracy )"
   ]
  },
  {
   "cell_type": "code",
   "execution_count": 95,
   "metadata": {},
   "outputs": [],
   "source": [
    "from sklearn.model_selection import GridSearchCV, StratifiedKFold"
   ]
  },
  {
   "cell_type": "code",
   "execution_count": 96,
   "metadata": {},
   "outputs": [],
   "source": [
    "params = {'max_depth': np.arange(2, 11), 'min_samples_leaf':  np.arange(1, 11)}"
   ]
  },
  {
   "cell_type": "code",
   "execution_count": 97,
   "metadata": {},
   "outputs": [],
   "source": [
    "skf = StratifiedKFold(n_splits=5, shuffle=True, random_state=17)"
   ]
  },
  {
   "cell_type": "code",
   "execution_count": 99,
   "metadata": {},
   "outputs": [],
   "source": [
    "best_tree = GridSearchCV(estimator=tree, param_grid=params, cv=skf, n_jobs=-1,\n",
    "                        verbose=1)"
   ]
  },
  {
   "cell_type": "code",
   "execution_count": 100,
   "metadata": {},
   "outputs": [
    {
     "name": "stdout",
     "output_type": "stream",
     "text": [
      "Fitting 5 folds for each of 90 candidates, totalling 450 fits\n"
     ]
    },
    {
     "name": "stderr",
     "output_type": "stream",
     "text": [
      "[Parallel(n_jobs=-1)]: Using backend LokyBackend with 8 concurrent workers.\n",
      "[Parallel(n_jobs=-1)]: Done  34 tasks      | elapsed:    2.5s\n",
      "[Parallel(n_jobs=-1)]: Done 450 out of 450 | elapsed:    4.9s finished\n"
     ]
    },
    {
     "data": {
      "text/plain": [
       "GridSearchCV(cv=StratifiedKFold(n_splits=5, random_state=17, shuffle=True),\n",
       "       error_score='raise-deprecating',\n",
       "       estimator=DecisionTreeClassifier(class_weight=None, criterion='gini', max_depth=None,\n",
       "            max_features=None, max_leaf_nodes=None,\n",
       "            min_impurity_decrease=0.0, min_impurity_split=None,\n",
       "            min_samples_leaf=49, min_samples_split=2,\n",
       "            min_weight_fraction_leaf=0.0, presort=False, random_state=17,\n",
       "            splitter='best'),\n",
       "       fit_params=None, iid='warn', n_jobs=-1,\n",
       "       param_grid={'max_depth': array([ 2,  3,  4,  5,  6,  7,  8,  9, 10]), 'min_samples_leaf': array([ 1,  2,  3,  4,  5,  6,  7,  8,  9, 10])},\n",
       "       pre_dispatch='2*n_jobs', refit=True, return_train_score='warn',\n",
       "       scoring=None, verbose=1)"
      ]
     },
     "execution_count": 100,
     "metadata": {},
     "output_type": "execute_result"
    }
   ],
   "source": [
    "best_tree.fit(X_train, y_train)"
   ]
  },
  {
   "cell_type": "markdown",
   "metadata": {},
   "source": [
    "#### Найкращі гіперпараметри"
   ]
  },
  {
   "cell_type": "code",
   "execution_count": 101,
   "metadata": {},
   "outputs": [
    {
     "data": {
      "text/plain": [
       "{'max_depth': 6, 'min_samples_leaf': 2}"
      ]
     },
     "execution_count": 101,
     "metadata": {},
     "output_type": "execute_result"
    }
   ],
   "source": [
    "best_tree.best_params_"
   ]
  },
  {
   "cell_type": "markdown",
   "metadata": {},
   "source": [
    "#### Найкраща модель"
   ]
  },
  {
   "cell_type": "code",
   "execution_count": 102,
   "metadata": {},
   "outputs": [
    {
     "data": {
      "text/plain": [
       "DecisionTreeClassifier(class_weight=None, criterion='gini', max_depth=6,\n",
       "            max_features=None, max_leaf_nodes=None,\n",
       "            min_impurity_decrease=0.0, min_impurity_split=None,\n",
       "            min_samples_leaf=2, min_samples_split=2,\n",
       "            min_weight_fraction_leaf=0.0, presort=False, random_state=17,\n",
       "            splitter='best')"
      ]
     },
     "execution_count": 102,
     "metadata": {},
     "output_type": "execute_result"
    }
   ],
   "source": [
    "best_tree.best_estimator_"
   ]
  },
  {
   "cell_type": "markdown",
   "metadata": {},
   "source": [
    "**Cross-Validation assessment of model quality**"
   ]
  },
  {
   "cell_type": "markdown",
   "metadata": {},
   "source": [
    "#### Найкращий скор"
   ]
  },
  {
   "cell_type": "code",
   "execution_count": 103,
   "metadata": {},
   "outputs": [
    {
     "data": {
      "text/plain": [
       "0.9417059579939991"
      ]
     },
     "execution_count": 103,
     "metadata": {},
     "output_type": "execute_result"
    }
   ],
   "source": [
    "best_tree.best_score_"
   ]
  },
  {
   "cell_type": "markdown",
   "metadata": {},
   "source": [
    "**Holdout assessment**"
   ]
  },
  {
   "cell_type": "markdown",
   "metadata": {},
   "source": [
    "### перевіримо на holdout"
   ]
  },
  {
   "cell_type": "code",
   "execution_count": 39,
   "metadata": {},
   "outputs": [],
   "source": [
    "pred_holdout_better = best_tree.predict(X_holdout)"
   ]
  },
  {
   "cell_type": "code",
   "execution_count": 40,
   "metadata": {},
   "outputs": [
    {
     "data": {
      "text/plain": [
       "0.947"
      ]
     },
     "execution_count": 40,
     "metadata": {},
     "output_type": "execute_result"
    }
   ],
   "source": [
    "accuracy_score(y_holdout, pred_holdout_better)"
   ]
  },
  {
   "cell_type": "markdown",
   "metadata": {},
   "source": [
    "### Для кращого розуміння, як працює алгоритм необхідно зробити візуалізацію дерева, для цього викоритаємо graphviz"
   ]
  },
  {
   "cell_type": "markdown",
   "metadata": {},
   "source": [
    "- для інсталяції graphviz в терміналі зробіть: sudo apt-get install graphviz\n",
    "- або тут в юпітері в окремому рядку !sudo apt-get install graphviz"
   ]
  },
  {
   "cell_type": "code",
   "execution_count": 105,
   "metadata": {},
   "outputs": [],
   "source": [
    "from sklearn.tree import export_graphviz"
   ]
  },
  {
   "cell_type": "code",
   "execution_count": 106,
   "metadata": {},
   "outputs": [],
   "source": [
    "export_graphviz(decision_tree=best_tree.best_estimator_,\n",
    "               out_file='tree.dot', filled=True, \n",
    "                feature_names=df.drop('Churn', axis=1).columns)"
   ]
  },
  {
   "cell_type": "markdown",
   "metadata": {},
   "source": [
    "### Результат нижче можна скопіювати та зробити візуалізацію дерева користуючись http://www.webgraphviz.com/ "
   ]
  },
  {
   "cell_type": "code",
   "execution_count": 43,
   "metadata": {},
   "outputs": [
    {
     "name": "stdout",
     "output_type": "stream",
     "text": [
      "digraph Tree {\r\n",
      "node [shape=box, style=\"filled\", color=\"black\"] ;\r\n",
      "0 [label=\"Total day minutes <= 264.45\\ngini = 0.255\\nsamples = 2333\\nvalue = [1983, 350]\", fillcolor=\"#e58139d2\"] ;\r\n",
      "1 [label=\"Customer service calls <= 3.5\\ngini = 0.206\\nsamples = 2182\\nvalue = [1927, 255]\", fillcolor=\"#e58139dd\"] ;\r\n",
      "0 -> 1 [labeldistance=2.5, labelangle=45, headlabel=\"True\"] ;\r\n",
      "2 [label=\"International plan <= 0.5\\ngini = 0.149\\nsamples = 2004\\nvalue = [1842, 162]\", fillcolor=\"#e58139e9\"] ;\r\n",
      "1 -> 2 ;\r\n",
      "3 [label=\"Total day charge <= 38.185\\ngini = 0.096\\nsamples = 1828\\nvalue = [1736, 92]\", fillcolor=\"#e58139f1\"] ;\r\n",
      "2 -> 3 ;\r\n",
      "4 [label=\"Account length <= 224.5\\ngini = 0.056\\nsamples = 1570\\nvalue = [1525, 45]\", fillcolor=\"#e58139f7\"] ;\r\n",
      "3 -> 4 ;\r\n",
      "5 [label=\"Total eve charge <= 27.965\\ngini = 0.055\\nsamples = 1568\\nvalue = [1524, 44]\", fillcolor=\"#e58139f8\"] ;\r\n",
      "4 -> 5 ;\r\n",
      "6 [label=\"gini = 0.052\\nsamples = 1560\\nvalue = [1518, 42]\", fillcolor=\"#e58139f8\"] ;\r\n",
      "5 -> 6 ;\r\n",
      "7 [label=\"gini = 0.375\\nsamples = 8\\nvalue = [6, 2]\", fillcolor=\"#e58139aa\"] ;\r\n",
      "5 -> 7 ;\r\n",
      "8 [label=\"gini = 0.5\\nsamples = 2\\nvalue = [1, 1]\", fillcolor=\"#e5813900\"] ;\r\n",
      "4 -> 8 ;\r\n",
      "9 [label=\"Total eve charge <= 22.67\\ngini = 0.298\\nsamples = 258\\nvalue = [211, 47]\", fillcolor=\"#e58139c6\"] ;\r\n",
      "3 -> 9 ;\r\n",
      "10 [label=\"Total eve minutes <= 242.35\\ngini = 0.188\\nsamples = 229\\nvalue = [205, 24]\", fillcolor=\"#e58139e1\"] ;\r\n",
      "9 -> 10 ;\r\n",
      "11 [label=\"gini = 0.123\\nsamples = 198\\nvalue = [185, 13]\", fillcolor=\"#e58139ed\"] ;\r\n",
      "10 -> 11 ;\r\n",
      "12 [label=\"gini = 0.458\\nsamples = 31\\nvalue = [20, 11]\", fillcolor=\"#e5813973\"] ;\r\n",
      "10 -> 12 ;\r\n",
      "13 [label=\"Voice mail plan <= 0.5\\ngini = 0.328\\nsamples = 29\\nvalue = [6, 23]\", fillcolor=\"#399de5bc\"] ;\r\n",
      "9 -> 13 ;\r\n",
      "14 [label=\"gini = 0.08\\nsamples = 24\\nvalue = [1, 23]\", fillcolor=\"#399de5f4\"] ;\r\n",
      "13 -> 14 ;\r\n",
      "15 [label=\"gini = 0.0\\nsamples = 5\\nvalue = [5, 0]\", fillcolor=\"#e58139ff\"] ;\r\n",
      "13 -> 15 ;\r\n",
      "16 [label=\"Total intl calls <= 2.5\\ngini = 0.479\\nsamples = 176\\nvalue = [106, 70]\", fillcolor=\"#e5813957\"] ;\r\n",
      "2 -> 16 ;\r\n",
      "17 [label=\"gini = 0.0\\nsamples = 39\\nvalue = [0, 39]\", fillcolor=\"#399de5ff\"] ;\r\n",
      "16 -> 17 ;\r\n",
      "18 [label=\"Total intl minutes <= 13.1\\ngini = 0.35\\nsamples = 137\\nvalue = [106, 31]\", fillcolor=\"#e58139b4\"] ;\r\n",
      "16 -> 18 ;\r\n",
      "19 [label=\"Total eve minutes <= 324.85\\ngini = 0.086\\nsamples = 111\\nvalue = [106, 5]\", fillcolor=\"#e58139f3\"] ;\r\n",
      "18 -> 19 ;\r\n",
      "20 [label=\"gini = 0.054\\nsamples = 108\\nvalue = [105, 3]\", fillcolor=\"#e58139f8\"] ;\r\n",
      "19 -> 20 ;\r\n",
      "21 [label=\"gini = 0.444\\nsamples = 3\\nvalue = [1, 2]\", fillcolor=\"#399de57f\"] ;\r\n",
      "19 -> 21 ;\r\n",
      "22 [label=\"gini = 0.0\\nsamples = 26\\nvalue = [0, 26]\", fillcolor=\"#399de5ff\"] ;\r\n",
      "18 -> 22 ;\r\n",
      "23 [label=\"Total day minutes <= 159.9\\ngini = 0.499\\nsamples = 178\\nvalue = [85, 93]\", fillcolor=\"#399de516\"] ;\r\n",
      "1 -> 23 ;\r\n",
      "24 [label=\"Total eve charge <= 22.57\\ngini = 0.209\\nsamples = 76\\nvalue = [9, 67]\", fillcolor=\"#399de5dd\"] ;\r\n",
      "23 -> 24 ;\r\n",
      "25 [label=\"Total day charge <= 23.565\\ngini = 0.153\\nsamples = 72\\nvalue = [6, 66]\", fillcolor=\"#399de5e8\"] ;\r\n",
      "24 -> 25 ;\r\n",
      "26 [label=\"gini = 0.0\\nsamples = 41\\nvalue = [0, 41]\", fillcolor=\"#399de5ff\"] ;\r\n",
      "25 -> 26 ;\r\n",
      "27 [label=\"Total eve minutes <= 232.05\\ngini = 0.312\\nsamples = 31\\nvalue = [6, 25]\", fillcolor=\"#399de5c2\"] ;\r\n",
      "25 -> 27 ;\r\n",
      "28 [label=\"gini = 0.191\\nsamples = 28\\nvalue = [3, 25]\", fillcolor=\"#399de5e0\"] ;\r\n",
      "27 -> 28 ;\r\n",
      "29 [label=\"gini = 0.0\\nsamples = 3\\nvalue = [3, 0]\", fillcolor=\"#e58139ff\"] ;\r\n",
      "27 -> 29 ;\r\n",
      "30 [label=\"Voice mail plan <= 0.5\\ngini = 0.375\\nsamples = 4\\nvalue = [3, 1]\", fillcolor=\"#e58139aa\"] ;\r\n",
      "24 -> 30 ;\r\n",
      "31 [label=\"gini = 0.5\\nsamples = 2\\nvalue = [1, 1]\", fillcolor=\"#e5813900\"] ;\r\n",
      "30 -> 31 ;\r\n",
      "32 [label=\"gini = 0.0\\nsamples = 2\\nvalue = [2, 0]\", fillcolor=\"#e58139ff\"] ;\r\n",
      "30 -> 32 ;\r\n",
      "33 [label=\"Total eve minutes <= 155.5\\ngini = 0.38\\nsamples = 102\\nvalue = [76, 26]\", fillcolor=\"#e58139a8\"] ;\r\n",
      "23 -> 33 ;\r\n",
      "34 [label=\"Total day charge <= 34.36\\ngini = 0.461\\nsamples = 25\\nvalue = [9, 16]\", fillcolor=\"#399de570\"] ;\r\n",
      "33 -> 34 ;\r\n",
      "35 [label=\"Total night charge <= 10.58\\ngini = 0.231\\nsamples = 15\\nvalue = [2, 13]\", fillcolor=\"#399de5d8\"] ;\r\n",
      "34 -> 35 ;\r\n",
      "36 [label=\"gini = 0.0\\nsamples = 11\\nvalue = [0, 11]\", fillcolor=\"#399de5ff\"] ;\r\n",
      "35 -> 36 ;\r\n",
      "37 [label=\"gini = 0.5\\nsamples = 4\\nvalue = [2, 2]\", fillcolor=\"#e5813900\"] ;\r\n",
      "35 -> 37 ;\r\n",
      "38 [label=\"Total night calls <= 118.5\\ngini = 0.42\\nsamples = 10\\nvalue = [7, 3]\", fillcolor=\"#e5813992\"] ;\r\n",
      "34 -> 38 ;\r\n",
      "39 [label=\"gini = 0.219\\nsamples = 8\\nvalue = [7, 1]\", fillcolor=\"#e58139db\"] ;\r\n",
      "38 -> 39 ;\r\n",
      "40 [label=\"gini = 0.0\\nsamples = 2\\nvalue = [0, 2]\", fillcolor=\"#399de5ff\"] ;\r\n",
      "38 -> 40 ;\r\n",
      "41 [label=\"Total day minutes <= 173.65\\ngini = 0.226\\nsamples = 77\\nvalue = [67, 10]\", fillcolor=\"#e58139d9\"] ;\r\n",
      "33 -> 41 ;\r\n",
      "42 [label=\"Total eve charge <= 17.755\\ngini = 0.457\\nsamples = 17\\nvalue = [11, 6]\", fillcolor=\"#e5813974\"] ;\r\n",
      "41 -> 42 ;\r\n",
      "43 [label=\"gini = 0.245\\nsamples = 7\\nvalue = [1, 6]\", fillcolor=\"#399de5d4\"] ;\r\n",
      "42 -> 43 ;\r\n",
      "44 [label=\"gini = 0.0\\nsamples = 10\\nvalue = [10, 0]\", fillcolor=\"#e58139ff\"] ;\r\n",
      "42 -> 44 ;\r\n",
      "45 [label=\"International plan <= 0.5\\ngini = 0.124\\nsamples = 60\\nvalue = [56, 4]\", fillcolor=\"#e58139ed\"] ;\r\n",
      "41 -> 45 ;\r\n",
      "46 [label=\"gini = 0.038\\nsamples = 52\\nvalue = [51, 1]\", fillcolor=\"#e58139fa\"] ;\r\n",
      "45 -> 46 ;\r\n",
      "47 [label=\"gini = 0.469\\nsamples = 8\\nvalue = [5, 3]\", fillcolor=\"#e5813966\"] ;\r\n",
      "45 -> 47 ;\r\n",
      "48 [label=\"Number vmail messages <= 6.5\\ngini = 0.467\\nsamples = 151\\nvalue = [56, 95]\", fillcolor=\"#399de569\"] ;\r\n",
      "0 -> 48 [labeldistance=2.5, labelangle=-45, headlabel=\"False\"] ;\r\n",
      "49 [label=\"Total eve charge <= 15.96\\ngini = 0.335\\nsamples = 113\\nvalue = [24, 89]\", fillcolor=\"#399de5ba\"] ;\r\n",
      "48 -> 49 ;\r\n",
      "50 [label=\"Total day charge <= 51.415\\ngini = 0.495\\nsamples = 40\\nvalue = [22, 18]\", fillcolor=\"#e581392e\"] ;\r\n",
      "49 -> 50 ;\r\n",
      "51 [label=\"Total night minutes <= 213.25\\ngini = 0.43\\nsamples = 32\\nvalue = [22, 10]\", fillcolor=\"#e581398b\"] ;\r\n",
      "50 -> 51 ;\r\n",
      "52 [label=\"Account length <= 164.5\\ngini = 0.1\\nsamples = 19\\nvalue = [18, 1]\", fillcolor=\"#e58139f1\"] ;\r\n",
      "51 -> 52 ;\r\n",
      "53 [label=\"gini = 0.0\\nsamples = 17\\nvalue = [17, 0]\", fillcolor=\"#e58139ff\"] ;\r\n",
      "52 -> 53 ;\r\n",
      "54 [label=\"gini = 0.5\\nsamples = 2\\nvalue = [1, 1]\", fillcolor=\"#e5813900\"] ;\r\n",
      "52 -> 54 ;\r\n",
      "55 [label=\"Total eve charge <= 13.205\\ngini = 0.426\\nsamples = 13\\nvalue = [4, 9]\", fillcolor=\"#399de58e\"] ;\r\n",
      "51 -> 55 ;\r\n",
      "56 [label=\"gini = 0.0\\nsamples = 4\\nvalue = [4, 0]\", fillcolor=\"#e58139ff\"] ;\r\n",
      "55 -> 56 ;\r\n",
      "57 [label=\"gini = 0.0\\nsamples = 9\\nvalue = [0, 9]\", fillcolor=\"#399de5ff\"] ;\r\n",
      "55 -> 57 ;\r\n",
      "58 [label=\"gini = 0.0\\nsamples = 8\\nvalue = [0, 8]\", fillcolor=\"#399de5ff\"] ;\r\n",
      "50 -> 58 ;\r\n",
      "59 [label=\"Total night minutes <= 131.1\\ngini = 0.053\\nsamples = 73\\nvalue = [2, 71]\", fillcolor=\"#399de5f8\"] ;\r\n",
      "49 -> 59 ;\r\n",
      "60 [label=\"gini = 0.444\\nsamples = 3\\nvalue = [2, 1]\", fillcolor=\"#e581397f\"] ;\r\n",
      "59 -> 60 ;\r\n",
      "61 [label=\"gini = 0.0\\nsamples = 70\\nvalue = [0, 70]\", fillcolor=\"#399de5ff\"] ;\r\n",
      "59 -> 61 ;\r\n",
      "62 [label=\"International plan <= 0.5\\ngini = 0.266\\nsamples = 38\\nvalue = [32, 6]\", fillcolor=\"#e58139cf\"] ;\r\n",
      "48 -> 62 ;\r\n",
      "63 [label=\"Total day charge <= 53.5\\ngini = 0.062\\nsamples = 31\\nvalue = [30, 1]\", fillcolor=\"#e58139f6\"] ;\r\n",
      "62 -> 63 ;\r\n",
      "64 [label=\"gini = 0.0\\nsamples = 29\\nvalue = [29, 0]\", fillcolor=\"#e58139ff\"] ;\r\n",
      "63 -> 64 ;\r\n",
      "65 [label=\"gini = 0.5\\nsamples = 2\\nvalue = [1, 1]\", fillcolor=\"#e5813900\"] ;\r\n",
      "63 -> 65 ;\r\n",
      "66 [label=\"Total eve charge <= 17.79\\ngini = 0.408\\nsamples = 7\\nvalue = [2, 5]\", fillcolor=\"#399de599\"] ;\r\n",
      "62 -> 66 ;\r\n",
      "67 [label=\"gini = 0.444\\nsamples = 3\\nvalue = [2, 1]\", fillcolor=\"#e581397f\"] ;\r\n",
      "66 -> 67 ;\r\n",
      "68 [label=\"gini = 0.0\\nsamples = 4\\nvalue = [0, 4]\", fillcolor=\"#399de5ff\"] ;\r\n",
      "66 -> 68 ;\r\n",
      "}"
     ]
    }
   ],
   "source": [
    "!cat tree.dot"
   ]
  },
  {
   "cell_type": "markdown",
   "metadata": {},
   "source": [
    "### Оскільки дерево вище завелике для відображення, зробимо дерево глибиною 3 та покажемо його"
   ]
  },
  {
   "cell_type": "code",
   "execution_count": 107,
   "metadata": {},
   "outputs": [],
   "source": [
    "tree = DecisionTreeClassifier(random_state=17, max_depth=3).fit(X_train, y_train)"
   ]
  },
  {
   "cell_type": "code",
   "execution_count": 108,
   "metadata": {},
   "outputs": [],
   "source": [
    "export_graphviz(decision_tree=tree,\n",
    "               out_file='tree_depth3.dot', filled=True, \n",
    "                feature_names=df.drop('Churn', axis=1).columns)"
   ]
  },
  {
   "cell_type": "code",
   "execution_count": 109,
   "metadata": {},
   "outputs": [
    {
     "name": "stdout",
     "output_type": "stream",
     "text": [
      "digraph Tree {\r\n",
      "node [shape=box, style=\"filled\", color=\"black\"] ;\r\n",
      "0 [label=\"Total day minutes <= 264.45\\ngini = 0.255\\nsamples = 2333\\nvalue = [1983, 350]\", fillcolor=\"#e58139d2\"] ;\r\n",
      "1 [label=\"Customer service calls <= 3.5\\ngini = 0.206\\nsamples = 2182\\nvalue = [1927, 255]\", fillcolor=\"#e58139dd\"] ;\r\n",
      "0 -> 1 [labeldistance=2.5, labelangle=45, headlabel=\"True\"] ;\r\n",
      "2 [label=\"International plan <= 0.5\\ngini = 0.149\\nsamples = 2004\\nvalue = [1842, 162]\", fillcolor=\"#e58139e9\"] ;\r\n",
      "1 -> 2 ;\r\n",
      "3 [label=\"gini = 0.096\\nsamples = 1828\\nvalue = [1736, 92]\", fillcolor=\"#e58139f1\"] ;\r\n",
      "2 -> 3 ;\r\n",
      "4 [label=\"gini = 0.479\\nsamples = 176\\nvalue = [106, 70]\", fillcolor=\"#e5813957\"] ;\r\n",
      "2 -> 4 ;\r\n",
      "5 [label=\"Total day charge <= 27.185\\ngini = 0.499\\nsamples = 178\\nvalue = [85, 93]\", fillcolor=\"#399de516\"] ;\r\n",
      "1 -> 5 ;\r\n",
      "6 [label=\"gini = 0.209\\nsamples = 76\\nvalue = [9, 67]\", fillcolor=\"#399de5dd\"] ;\r\n",
      "5 -> 6 ;\r\n",
      "7 [label=\"gini = 0.38\\nsamples = 102\\nvalue = [76, 26]\", fillcolor=\"#e58139a8\"] ;\r\n",
      "5 -> 7 ;\r\n",
      "8 [label=\"Voice mail plan <= 0.5\\ngini = 0.467\\nsamples = 151\\nvalue = [56, 95]\", fillcolor=\"#399de569\"] ;\r\n",
      "0 -> 8 [labeldistance=2.5, labelangle=-45, headlabel=\"False\"] ;\r\n",
      "9 [label=\"Total eve charge <= 15.96\\ngini = 0.335\\nsamples = 113\\nvalue = [24, 89]\", fillcolor=\"#399de5ba\"] ;\r\n",
      "8 -> 9 ;\r\n",
      "10 [label=\"gini = 0.495\\nsamples = 40\\nvalue = [22, 18]\", fillcolor=\"#e581392e\"] ;\r\n",
      "9 -> 10 ;\r\n",
      "11 [label=\"gini = 0.053\\nsamples = 73\\nvalue = [2, 71]\", fillcolor=\"#399de5f8\"] ;\r\n",
      "9 -> 11 ;\r\n",
      "12 [label=\"International plan <= 0.5\\ngini = 0.266\\nsamples = 38\\nvalue = [32, 6]\", fillcolor=\"#e58139cf\"] ;\r\n",
      "8 -> 12 ;\r\n",
      "13 [label=\"gini = 0.062\\nsamples = 31\\nvalue = [30, 1]\", fillcolor=\"#e58139f6\"] ;\r\n",
      "12 -> 13 ;\r\n",
      "14 [label=\"gini = 0.408\\nsamples = 7\\nvalue = [2, 5]\", fillcolor=\"#399de599\"] ;\r\n",
      "12 -> 14 ;\r\n",
      "}"
     ]
    }
   ],
   "source": [
    "!cat tree_depth3.dot"
   ]
  },
  {
   "cell_type": "markdown",
   "metadata": {},
   "source": [
    "### Також можна відобразити дерево безпосереньо в юпітер тетрадці, для цього становіть необхідні бібілотеки"
   ]
  },
  {
   "cell_type": "markdown",
   "metadata": {},
   "source": [
    "#### !pip install pydotplus\n",
    "#### або в терміналі: pip install pydotplus "
   ]
  },
  {
   "cell_type": "code",
   "execution_count": 110,
   "metadata": {},
   "outputs": [],
   "source": [
    "from io import StringIO\n",
    "import pydotplus\n",
    "from ipywidgets import Image"
   ]
  },
  {
   "cell_type": "code",
   "execution_count": 111,
   "metadata": {},
   "outputs": [
    {
     "data": {
      "application/vnd.jupyter.widget-view+json": {
       "model_id": "724961aa11a24a4eb60d97ef68760a36",
       "version_major": 2,
       "version_minor": 0
      },
      "text/plain": [
       "Image(value=b'\\x89PNG\\r\\n\\x1a\\n\\x00\\x00\\x00\\rIHDR\\x00\\x00\\x05\\x03\\x00\\x00\\x01\\xf1\\x08\\x02\\x00\\x00\\x00V0=\\x0c\\x…"
      ]
     },
     "metadata": {},
     "output_type": "display_data"
    }
   ],
   "source": [
    "dot_data = StringIO()\n",
    "export_graphviz(decision_tree=tree,\n",
    "               out_file=dot_data, filled=True, \n",
    "                feature_names=df.drop('Churn', axis=1).columns)\n",
    "graph = pydotplus.graph_from_dot_data(dot_data.getvalue())  \n",
    "Image(value=graph.create_png())"
   ]
  },
  {
   "cell_type": "markdown",
   "metadata": {},
   "source": [
    "### Хто дочитав той молодець"
   ]
  },
  {
   "cell_type": "code",
   "execution_count": null,
   "metadata": {},
   "outputs": [],
   "source": []
  },
  {
   "cell_type": "code",
   "execution_count": null,
   "metadata": {},
   "outputs": [],
   "source": []
  },
  {
   "cell_type": "code",
   "execution_count": null,
   "metadata": {},
   "outputs": [],
   "source": []
  },
  {
   "cell_type": "code",
   "execution_count": null,
   "metadata": {},
   "outputs": [],
   "source": []
  },
  {
   "cell_type": "code",
   "execution_count": null,
   "metadata": {},
   "outputs": [],
   "source": []
  },
  {
   "cell_type": "code",
   "execution_count": null,
   "metadata": {},
   "outputs": [],
   "source": []
  }
 ],
 "metadata": {
  "kernelspec": {
   "display_name": "Python 3",
   "language": "python",
   "name": "python3"
  },
  "language_info": {
   "codemirror_mode": {
    "name": "ipython",
    "version": 3
   },
   "file_extension": ".py",
   "mimetype": "text/x-python",
   "name": "python",
   "nbconvert_exporter": "python",
   "pygments_lexer": "ipython3",
   "version": "3.7.1"
  }
 },
 "nbformat": 4,
 "nbformat_minor": 2
}
